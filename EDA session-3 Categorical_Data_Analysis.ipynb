{
 "cells": [
  {
   "cell_type": "code",
   "execution_count": 1,
   "id": "b41a2f8c-1c3f-4a94-9dde-e0d1cbf553a9",
   "metadata": {},
   "outputs": [],
   "source": [
    "# Read the packages\n",
    "# Read the data\n",
    "# categorical and numerical"
   ]
  },
  {
   "cell_type": "markdown",
   "id": "f1683f3f-b992-4d68-8990-51330433da3e",
   "metadata": {},
   "source": [
    "**Import the required packages**"
   ]
  },
  {
   "cell_type": "code",
   "execution_count": 57,
   "id": "910d938b-70a9-4f62-b77e-46f49ecc2fb7",
   "metadata": {},
   "outputs": [],
   "source": [
    "import pandas as pd\n",
    "import numpy as np\n",
    "import matplotlib.pyplot as plt\n",
    "import seaborn as sns\n"
   ]
  },
  {
   "cell_type": "markdown",
   "id": "b6006f34-46a3-41ba-897c-cc237e3dd1af",
   "metadata": {},
   "source": [
    "**Read the data**"
   ]
  },
  {
   "cell_type": "code",
   "execution_count": 58,
   "id": "81eb3adc-5f52-4c05-81b8-a07b8179bf12",
   "metadata": {},
   "outputs": [
    {
     "data": {
      "text/html": [
       "<div>\n",
       "<style scoped>\n",
       "    .dataframe tbody tr th:only-of-type {\n",
       "        vertical-align: middle;\n",
       "    }\n",
       "\n",
       "    .dataframe tbody tr th {\n",
       "        vertical-align: top;\n",
       "    }\n",
       "\n",
       "    .dataframe thead th {\n",
       "        text-align: right;\n",
       "    }\n",
       "</style>\n",
       "<table border=\"1\" class=\"dataframe\">\n",
       "  <thead>\n",
       "    <tr style=\"text-align: right;\">\n",
       "      <th></th>\n",
       "      <th>case_id</th>\n",
       "      <th>continent</th>\n",
       "      <th>education_of_employee</th>\n",
       "      <th>has_job_experience</th>\n",
       "      <th>requires_job_training</th>\n",
       "      <th>no_of_employees</th>\n",
       "      <th>yr_of_estab</th>\n",
       "      <th>region_of_employment</th>\n",
       "      <th>prevailing_wage</th>\n",
       "      <th>unit_of_wage</th>\n",
       "      <th>full_time_position</th>\n",
       "      <th>case_status</th>\n",
       "    </tr>\n",
       "  </thead>\n",
       "  <tbody>\n",
       "    <tr>\n",
       "      <th>0</th>\n",
       "      <td>EZYV01</td>\n",
       "      <td>Asia</td>\n",
       "      <td>High School</td>\n",
       "      <td>N</td>\n",
       "      <td>N</td>\n",
       "      <td>14513</td>\n",
       "      <td>2007</td>\n",
       "      <td>West</td>\n",
       "      <td>592.2029</td>\n",
       "      <td>Hour</td>\n",
       "      <td>Y</td>\n",
       "      <td>Denied</td>\n",
       "    </tr>\n",
       "    <tr>\n",
       "      <th>1</th>\n",
       "      <td>EZYV02</td>\n",
       "      <td>Asia</td>\n",
       "      <td>Master's</td>\n",
       "      <td>Y</td>\n",
       "      <td>N</td>\n",
       "      <td>2412</td>\n",
       "      <td>2002</td>\n",
       "      <td>Northeast</td>\n",
       "      <td>83425.6500</td>\n",
       "      <td>Year</td>\n",
       "      <td>Y</td>\n",
       "      <td>Certified</td>\n",
       "    </tr>\n",
       "    <tr>\n",
       "      <th>2</th>\n",
       "      <td>EZYV03</td>\n",
       "      <td>Asia</td>\n",
       "      <td>Bachelor's</td>\n",
       "      <td>N</td>\n",
       "      <td>Y</td>\n",
       "      <td>44444</td>\n",
       "      <td>2008</td>\n",
       "      <td>West</td>\n",
       "      <td>122996.8600</td>\n",
       "      <td>Year</td>\n",
       "      <td>Y</td>\n",
       "      <td>Denied</td>\n",
       "    </tr>\n",
       "    <tr>\n",
       "      <th>3</th>\n",
       "      <td>EZYV04</td>\n",
       "      <td>Asia</td>\n",
       "      <td>Bachelor's</td>\n",
       "      <td>N</td>\n",
       "      <td>N</td>\n",
       "      <td>98</td>\n",
       "      <td>1897</td>\n",
       "      <td>West</td>\n",
       "      <td>83434.0300</td>\n",
       "      <td>Year</td>\n",
       "      <td>Y</td>\n",
       "      <td>Denied</td>\n",
       "    </tr>\n",
       "    <tr>\n",
       "      <th>4</th>\n",
       "      <td>EZYV05</td>\n",
       "      <td>Africa</td>\n",
       "      <td>Master's</td>\n",
       "      <td>Y</td>\n",
       "      <td>N</td>\n",
       "      <td>1082</td>\n",
       "      <td>2005</td>\n",
       "      <td>South</td>\n",
       "      <td>149907.3900</td>\n",
       "      <td>Year</td>\n",
       "      <td>Y</td>\n",
       "      <td>Certified</td>\n",
       "    </tr>\n",
       "  </tbody>\n",
       "</table>\n",
       "</div>"
      ],
      "text/plain": [
       "  case_id continent education_of_employee has_job_experience  \\\n",
       "0  EZYV01      Asia           High School                  N   \n",
       "1  EZYV02      Asia              Master's                  Y   \n",
       "2  EZYV03      Asia            Bachelor's                  N   \n",
       "3  EZYV04      Asia            Bachelor's                  N   \n",
       "4  EZYV05    Africa              Master's                  Y   \n",
       "\n",
       "  requires_job_training  no_of_employees  yr_of_estab region_of_employment  \\\n",
       "0                     N            14513         2007                 West   \n",
       "1                     N             2412         2002            Northeast   \n",
       "2                     Y            44444         2008                 West   \n",
       "3                     N               98         1897                 West   \n",
       "4                     N             1082         2005                South   \n",
       "\n",
       "   prevailing_wage unit_of_wage full_time_position case_status  \n",
       "0         592.2029         Hour                  Y      Denied  \n",
       "1       83425.6500         Year                  Y   Certified  \n",
       "2      122996.8600         Year                  Y      Denied  \n",
       "3       83434.0300         Year                  Y      Denied  \n",
       "4      149907.3900         Year                  Y   Certified  "
      ]
     },
     "execution_count": 58,
     "metadata": {},
     "output_type": "execute_result"
    }
   ],
   "source": [
    "visa_df=pd.read_csv(\"Visadataset.csv\")\n",
    "visa_df.head()"
   ]
  },
  {
   "cell_type": "markdown",
   "id": "2637e69c-2ccf-4963-a769-2df63686380c",
   "metadata": {},
   "source": [
    "**Divide into categorical and numerical**"
   ]
  },
  {
   "cell_type": "code",
   "execution_count": 59,
   "id": "4d3aafe1-aa02-49d9-a789-d011c4062d6d",
   "metadata": {},
   "outputs": [],
   "source": [
    "types=dict(visa_df.dtypes)\n",
    "cat_columns=[key for key, value in types.items() if value=='object']\n",
    "num_columns=[key for key, value in types.items() if value!='object']"
   ]
  },
  {
   "cell_type": "markdown",
   "id": "c9449323-6213-40b0-b2c6-67e3efe78e5a",
   "metadata": {},
   "source": [
    "**Select dtypes**"
   ]
  },
  {
   "cell_type": "code",
   "execution_count": 60,
   "id": "bb12498b-2fef-4161-9287-608db218d924",
   "metadata": {},
   "outputs": [
    {
     "data": {
      "text/plain": [
       "Index(['case_id', 'continent', 'education_of_employee', 'has_job_experience',\n",
       "       'requires_job_training', 'region_of_employment', 'unit_of_wage',\n",
       "       'full_time_position', 'case_status'],\n",
       "      dtype='object')"
      ]
     },
     "execution_count": 60,
     "metadata": {},
     "output_type": "execute_result"
    }
   ],
   "source": [
    "cat_columns=visa_df.select_dtypes(include='object').columns\n",
    "num_columns=visa_df.select_dtypes(exclude='object').columns\n",
    "cat_columns"
   ]
  },
  {
   "cell_type": "markdown",
   "id": "fdb862ea-2770-4429-a201-0c6719e505d3",
   "metadata": {},
   "source": [
    "**How to select a specific column**"
   ]
  },
  {
   "cell_type": "code",
   "execution_count": 61,
   "id": "232f9bcf-6394-4ebe-a1cc-7ed5d878340b",
   "metadata": {},
   "outputs": [
    {
     "data": {
      "text/plain": [
       "0          Asia\n",
       "1          Asia\n",
       "2          Asia\n",
       "3          Asia\n",
       "4        Africa\n",
       "          ...  \n",
       "25475      Asia\n",
       "25476      Asia\n",
       "25477      Asia\n",
       "25478      Asia\n",
       "25479      Asia\n",
       "Name: continent, Length: 25480, dtype: object"
      ]
     },
     "execution_count": 61,
     "metadata": {},
     "output_type": "execute_result"
    }
   ],
   "source": [
    "visa_df['continent']      # Series type"
   ]
  },
  {
   "cell_type": "code",
   "execution_count": 62,
   "id": "8e9fcb13-fa20-4265-812c-539be063b49a",
   "metadata": {},
   "outputs": [
    {
     "data": {
      "text/html": [
       "<div>\n",
       "<style scoped>\n",
       "    .dataframe tbody tr th:only-of-type {\n",
       "        vertical-align: middle;\n",
       "    }\n",
       "\n",
       "    .dataframe tbody tr th {\n",
       "        vertical-align: top;\n",
       "    }\n",
       "\n",
       "    .dataframe thead th {\n",
       "        text-align: right;\n",
       "    }\n",
       "</style>\n",
       "<table border=\"1\" class=\"dataframe\">\n",
       "  <thead>\n",
       "    <tr style=\"text-align: right;\">\n",
       "      <th></th>\n",
       "      <th>continent</th>\n",
       "    </tr>\n",
       "  </thead>\n",
       "  <tbody>\n",
       "    <tr>\n",
       "      <th>0</th>\n",
       "      <td>Asia</td>\n",
       "    </tr>\n",
       "    <tr>\n",
       "      <th>1</th>\n",
       "      <td>Asia</td>\n",
       "    </tr>\n",
       "    <tr>\n",
       "      <th>2</th>\n",
       "      <td>Asia</td>\n",
       "    </tr>\n",
       "    <tr>\n",
       "      <th>3</th>\n",
       "      <td>Asia</td>\n",
       "    </tr>\n",
       "    <tr>\n",
       "      <th>4</th>\n",
       "      <td>Africa</td>\n",
       "    </tr>\n",
       "    <tr>\n",
       "      <th>...</th>\n",
       "      <td>...</td>\n",
       "    </tr>\n",
       "    <tr>\n",
       "      <th>25475</th>\n",
       "      <td>Asia</td>\n",
       "    </tr>\n",
       "    <tr>\n",
       "      <th>25476</th>\n",
       "      <td>Asia</td>\n",
       "    </tr>\n",
       "    <tr>\n",
       "      <th>25477</th>\n",
       "      <td>Asia</td>\n",
       "    </tr>\n",
       "    <tr>\n",
       "      <th>25478</th>\n",
       "      <td>Asia</td>\n",
       "    </tr>\n",
       "    <tr>\n",
       "      <th>25479</th>\n",
       "      <td>Asia</td>\n",
       "    </tr>\n",
       "  </tbody>\n",
       "</table>\n",
       "<p>25480 rows × 1 columns</p>\n",
       "</div>"
      ],
      "text/plain": [
       "      continent\n",
       "0          Asia\n",
       "1          Asia\n",
       "2          Asia\n",
       "3          Asia\n",
       "4        Africa\n",
       "...         ...\n",
       "25475      Asia\n",
       "25476      Asia\n",
       "25477      Asia\n",
       "25478      Asia\n",
       "25479      Asia\n",
       "\n",
       "[25480 rows x 1 columns]"
      ]
     },
     "execution_count": 62,
     "metadata": {},
     "output_type": "execute_result"
    }
   ],
   "source": [
    "visa_df[['continent']]     # Dataframe"
   ]
  },
  {
   "cell_type": "code",
   "execution_count": 63,
   "id": "52788d59-a942-46ac-b5ab-eb751925255d",
   "metadata": {},
   "outputs": [
    {
     "data": {
      "text/plain": [
       "0          Asia\n",
       "1          Asia\n",
       "2          Asia\n",
       "3          Asia\n",
       "4        Africa\n",
       "          ...  \n",
       "25475      Asia\n",
       "25476      Asia\n",
       "25477      Asia\n",
       "25478      Asia\n",
       "25479      Asia\n",
       "Name: continent, Length: 25480, dtype: object"
      ]
     },
     "execution_count": 63,
     "metadata": {},
     "output_type": "execute_result"
    }
   ],
   "source": [
    "visa_df.continent      #Series"
   ]
  },
  {
   "cell_type": "code",
   "execution_count": 9,
   "id": "4ea064b6-0e27-4ae3-bb25-b17213c020d0",
   "metadata": {},
   "outputs": [
    {
     "data": {
      "text/html": [
       "<div>\n",
       "<style scoped>\n",
       "    .dataframe tbody tr th:only-of-type {\n",
       "        vertical-align: middle;\n",
       "    }\n",
       "\n",
       "    .dataframe tbody tr th {\n",
       "        vertical-align: top;\n",
       "    }\n",
       "\n",
       "    .dataframe thead th {\n",
       "        text-align: right;\n",
       "    }\n",
       "</style>\n",
       "<table border=\"1\" class=\"dataframe\">\n",
       "  <thead>\n",
       "    <tr style=\"text-align: right;\">\n",
       "      <th></th>\n",
       "      <th>continent</th>\n",
       "    </tr>\n",
       "  </thead>\n",
       "  <tbody>\n",
       "    <tr>\n",
       "      <th>0</th>\n",
       "      <td>Asia</td>\n",
       "    </tr>\n",
       "    <tr>\n",
       "      <th>1</th>\n",
       "      <td>Asia</td>\n",
       "    </tr>\n",
       "    <tr>\n",
       "      <th>2</th>\n",
       "      <td>Asia</td>\n",
       "    </tr>\n",
       "    <tr>\n",
       "      <th>3</th>\n",
       "      <td>Asia</td>\n",
       "    </tr>\n",
       "    <tr>\n",
       "      <th>4</th>\n",
       "      <td>Africa</td>\n",
       "    </tr>\n",
       "    <tr>\n",
       "      <th>...</th>\n",
       "      <td>...</td>\n",
       "    </tr>\n",
       "    <tr>\n",
       "      <th>25475</th>\n",
       "      <td>Asia</td>\n",
       "    </tr>\n",
       "    <tr>\n",
       "      <th>25476</th>\n",
       "      <td>Asia</td>\n",
       "    </tr>\n",
       "    <tr>\n",
       "      <th>25477</th>\n",
       "      <td>Asia</td>\n",
       "    </tr>\n",
       "    <tr>\n",
       "      <th>25478</th>\n",
       "      <td>Asia</td>\n",
       "    </tr>\n",
       "    <tr>\n",
       "      <th>25479</th>\n",
       "      <td>Asia</td>\n",
       "    </tr>\n",
       "  </tbody>\n",
       "</table>\n",
       "<p>25480 rows × 1 columns</p>\n",
       "</div>"
      ],
      "text/plain": [
       "      continent\n",
       "0          Asia\n",
       "1          Asia\n",
       "2          Asia\n",
       "3          Asia\n",
       "4        Africa\n",
       "...         ...\n",
       "25475      Asia\n",
       "25476      Asia\n",
       "25477      Asia\n",
       "25478      Asia\n",
       "25479      Asia\n",
       "\n",
       "[25480 rows x 1 columns]"
      ]
     },
     "execution_count": 9,
     "metadata": {},
     "output_type": "execute_result"
    }
   ],
   "source": [
    "visa_df.loc[:,['continent']]"
   ]
  },
  {
   "cell_type": "code",
   "execution_count": 10,
   "id": "941130f2-f525-482f-8625-de7f48e14d0c",
   "metadata": {},
   "outputs": [
    {
     "data": {
      "text/html": [
       "<div>\n",
       "<style scoped>\n",
       "    .dataframe tbody tr th:only-of-type {\n",
       "        vertical-align: middle;\n",
       "    }\n",
       "\n",
       "    .dataframe tbody tr th {\n",
       "        vertical-align: top;\n",
       "    }\n",
       "\n",
       "    .dataframe thead th {\n",
       "        text-align: right;\n",
       "    }\n",
       "</style>\n",
       "<table border=\"1\" class=\"dataframe\">\n",
       "  <thead>\n",
       "    <tr style=\"text-align: right;\">\n",
       "      <th></th>\n",
       "      <th>continent</th>\n",
       "    </tr>\n",
       "  </thead>\n",
       "  <tbody>\n",
       "    <tr>\n",
       "      <th>0</th>\n",
       "      <td>Asia</td>\n",
       "    </tr>\n",
       "    <tr>\n",
       "      <th>1</th>\n",
       "      <td>Asia</td>\n",
       "    </tr>\n",
       "    <tr>\n",
       "      <th>2</th>\n",
       "      <td>Asia</td>\n",
       "    </tr>\n",
       "    <tr>\n",
       "      <th>3</th>\n",
       "      <td>Asia</td>\n",
       "    </tr>\n",
       "    <tr>\n",
       "      <th>4</th>\n",
       "      <td>Africa</td>\n",
       "    </tr>\n",
       "    <tr>\n",
       "      <th>...</th>\n",
       "      <td>...</td>\n",
       "    </tr>\n",
       "    <tr>\n",
       "      <th>25475</th>\n",
       "      <td>Asia</td>\n",
       "    </tr>\n",
       "    <tr>\n",
       "      <th>25476</th>\n",
       "      <td>Asia</td>\n",
       "    </tr>\n",
       "    <tr>\n",
       "      <th>25477</th>\n",
       "      <td>Asia</td>\n",
       "    </tr>\n",
       "    <tr>\n",
       "      <th>25478</th>\n",
       "      <td>Asia</td>\n",
       "    </tr>\n",
       "    <tr>\n",
       "      <th>25479</th>\n",
       "      <td>Asia</td>\n",
       "    </tr>\n",
       "  </tbody>\n",
       "</table>\n",
       "<p>25480 rows × 1 columns</p>\n",
       "</div>"
      ],
      "text/plain": [
       "      continent\n",
       "0          Asia\n",
       "1          Asia\n",
       "2          Asia\n",
       "3          Asia\n",
       "4        Africa\n",
       "...         ...\n",
       "25475      Asia\n",
       "25476      Asia\n",
       "25477      Asia\n",
       "25478      Asia\n",
       "25479      Asia\n",
       "\n",
       "[25480 rows x 1 columns]"
      ]
     },
     "execution_count": 10,
     "metadata": {},
     "output_type": "execute_result"
    }
   ],
   "source": [
    "visa_df['continent']      # Series type\n",
    "visa_df[['continent']]     # Dataframe\n",
    "visa_df.continent      #Series\n",
    "visa_df.loc[:,['continent']]"
   ]
  },
  {
   "cell_type": "markdown",
   "id": "8c950975-dc68-4df0-9f70-9fb24300a1a3",
   "metadata": {},
   "source": [
    "**Read the multiple columns**\n",
    "\n",
    "- Whenever we see multiple means recall the list\n",
    "\n",
    "- keep the columns in list\n",
    "\n",
    "- pass that list"
   ]
  },
  {
   "cell_type": "code",
   "execution_count": 11,
   "id": "10b55c56-7b5f-4438-a189-06870a5e0ea5",
   "metadata": {},
   "outputs": [
    {
     "data": {
      "text/html": [
       "<div>\n",
       "<style scoped>\n",
       "    .dataframe tbody tr th:only-of-type {\n",
       "        vertical-align: middle;\n",
       "    }\n",
       "\n",
       "    .dataframe tbody tr th {\n",
       "        vertical-align: top;\n",
       "    }\n",
       "\n",
       "    .dataframe thead th {\n",
       "        text-align: right;\n",
       "    }\n",
       "</style>\n",
       "<table border=\"1\" class=\"dataframe\">\n",
       "  <thead>\n",
       "    <tr style=\"text-align: right;\">\n",
       "      <th></th>\n",
       "      <th>continent</th>\n",
       "      <th>case_status</th>\n",
       "    </tr>\n",
       "  </thead>\n",
       "  <tbody>\n",
       "    <tr>\n",
       "      <th>0</th>\n",
       "      <td>Asia</td>\n",
       "      <td>Denied</td>\n",
       "    </tr>\n",
       "    <tr>\n",
       "      <th>1</th>\n",
       "      <td>Asia</td>\n",
       "      <td>Certified</td>\n",
       "    </tr>\n",
       "    <tr>\n",
       "      <th>2</th>\n",
       "      <td>Asia</td>\n",
       "      <td>Denied</td>\n",
       "    </tr>\n",
       "    <tr>\n",
       "      <th>3</th>\n",
       "      <td>Asia</td>\n",
       "      <td>Denied</td>\n",
       "    </tr>\n",
       "    <tr>\n",
       "      <th>4</th>\n",
       "      <td>Africa</td>\n",
       "      <td>Certified</td>\n",
       "    </tr>\n",
       "    <tr>\n",
       "      <th>...</th>\n",
       "      <td>...</td>\n",
       "      <td>...</td>\n",
       "    </tr>\n",
       "    <tr>\n",
       "      <th>25475</th>\n",
       "      <td>Asia</td>\n",
       "      <td>Certified</td>\n",
       "    </tr>\n",
       "    <tr>\n",
       "      <th>25476</th>\n",
       "      <td>Asia</td>\n",
       "      <td>Certified</td>\n",
       "    </tr>\n",
       "    <tr>\n",
       "      <th>25477</th>\n",
       "      <td>Asia</td>\n",
       "      <td>Certified</td>\n",
       "    </tr>\n",
       "    <tr>\n",
       "      <th>25478</th>\n",
       "      <td>Asia</td>\n",
       "      <td>Certified</td>\n",
       "    </tr>\n",
       "    <tr>\n",
       "      <th>25479</th>\n",
       "      <td>Asia</td>\n",
       "      <td>Certified</td>\n",
       "    </tr>\n",
       "  </tbody>\n",
       "</table>\n",
       "<p>25480 rows × 2 columns</p>\n",
       "</div>"
      ],
      "text/plain": [
       "      continent case_status\n",
       "0          Asia      Denied\n",
       "1          Asia   Certified\n",
       "2          Asia      Denied\n",
       "3          Asia      Denied\n",
       "4        Africa   Certified\n",
       "...         ...         ...\n",
       "25475      Asia   Certified\n",
       "25476      Asia   Certified\n",
       "25477      Asia   Certified\n",
       "25478      Asia   Certified\n",
       "25479      Asia   Certified\n",
       "\n",
       "[25480 rows x 2 columns]"
      ]
     },
     "execution_count": 11,
     "metadata": {},
     "output_type": "execute_result"
    }
   ],
   "source": [
    "cols=['continent','case_status']\n",
    "visa_df[cols]"
   ]
  },
  {
   "cell_type": "markdown",
   "id": "bb3a9285-be8b-4f8a-bc42-137b3a1a197a",
   "metadata": {},
   "source": [
    "$task - 1$\n",
    "\n",
    "**we want to find the number of applicants continent wise**\n",
    "\n",
    "- There is an Asia continent is there \n",
    "\n",
    "- How many applicants are from Asia out of 25480"
   ]
  },
  {
   "cell_type": "markdown",
   "id": "bf845590-43be-4aff-b95b-19de90f951b8",
   "metadata": {},
   "source": [
    "**Unique**\n",
    "\n",
    "- Unique will provide how many unique items are there in a particular column"
   ]
  },
  {
   "cell_type": "code",
   "execution_count": 12,
   "id": "cc81570e-e0a0-4c85-a1ed-2df5459685b9",
   "metadata": {},
   "outputs": [
    {
     "data": {
      "text/plain": [
       "array(['Asia', 'Africa', 'North America', 'Europe', 'South America',\n",
       "       'Oceania'], dtype=object)"
      ]
     },
     "execution_count": 12,
     "metadata": {},
     "output_type": "execute_result"
    }
   ],
   "source": [
    "visa_df['continent'].unique()"
   ]
  },
  {
   "cell_type": "code",
   "execution_count": 13,
   "id": "0fd6e61e-058e-404b-ab79-5db6d9ce771b",
   "metadata": {},
   "outputs": [
    {
     "data": {
      "text/plain": [
       "6"
      ]
     },
     "execution_count": 13,
     "metadata": {},
     "output_type": "execute_result"
    }
   ],
   "source": [
    "len(visa_df['continent'].unique())"
   ]
  },
  {
   "cell_type": "markdown",
   "id": "075996b9-98f4-4566-ab5c-2a6e4436622e",
   "metadata": {},
   "source": [
    "**nunique**\n",
    "\n",
    "- gives count of unique items"
   ]
  },
  {
   "cell_type": "code",
   "execution_count": 14,
   "id": "d0922017-51cf-4416-bf47-9cf7b2418218",
   "metadata": {},
   "outputs": [
    {
     "data": {
      "text/plain": [
       "6"
      ]
     },
     "execution_count": 14,
     "metadata": {},
     "output_type": "execute_result"
    }
   ],
   "source": [
    "visa_df['continent'].nunique()"
   ]
  },
  {
   "cell_type": "code",
   "execution_count": 15,
   "id": "261bcde8-5b8b-44aa-88e6-c6545d760a82",
   "metadata": {},
   "outputs": [
    {
     "data": {
      "text/plain": [
       "0          Asia\n",
       "1          Asia\n",
       "2          Asia\n",
       "3          Asia\n",
       "4        Africa\n",
       "          ...  \n",
       "25475      Asia\n",
       "25476      Asia\n",
       "25477      Asia\n",
       "25478      Asia\n",
       "25479      Asia\n",
       "Name: continent, Length: 25480, dtype: object"
      ]
     },
     "execution_count": 15,
     "metadata": {},
     "output_type": "execute_result"
    }
   ],
   "source": [
    "visa_df['continent']"
   ]
  },
  {
   "cell_type": "code",
   "execution_count": 16,
   "id": "df2a278b-4197-4041-9a9c-78081676cac4",
   "metadata": {},
   "outputs": [
    {
     "data": {
      "text/html": [
       "<div>\n",
       "<style scoped>\n",
       "    .dataframe tbody tr th:only-of-type {\n",
       "        vertical-align: middle;\n",
       "    }\n",
       "\n",
       "    .dataframe tbody tr th {\n",
       "        vertical-align: top;\n",
       "    }\n",
       "\n",
       "    .dataframe thead th {\n",
       "        text-align: right;\n",
       "    }\n",
       "</style>\n",
       "<table border=\"1\" class=\"dataframe\">\n",
       "  <thead>\n",
       "    <tr style=\"text-align: right;\">\n",
       "      <th></th>\n",
       "      <th>case_id</th>\n",
       "      <th>continent</th>\n",
       "      <th>education_of_employee</th>\n",
       "      <th>has_job_experience</th>\n",
       "      <th>requires_job_training</th>\n",
       "      <th>no_of_employees</th>\n",
       "      <th>yr_of_estab</th>\n",
       "      <th>region_of_employment</th>\n",
       "      <th>prevailing_wage</th>\n",
       "      <th>unit_of_wage</th>\n",
       "      <th>full_time_position</th>\n",
       "      <th>case_status</th>\n",
       "    </tr>\n",
       "  </thead>\n",
       "  <tbody>\n",
       "    <tr>\n",
       "      <th>0</th>\n",
       "      <td>EZYV01</td>\n",
       "      <td>Asia</td>\n",
       "      <td>High School</td>\n",
       "      <td>N</td>\n",
       "      <td>N</td>\n",
       "      <td>14513</td>\n",
       "      <td>2007</td>\n",
       "      <td>West</td>\n",
       "      <td>592.2029</td>\n",
       "      <td>Hour</td>\n",
       "      <td>Y</td>\n",
       "      <td>Denied</td>\n",
       "    </tr>\n",
       "    <tr>\n",
       "      <th>1</th>\n",
       "      <td>EZYV02</td>\n",
       "      <td>Asia</td>\n",
       "      <td>Master's</td>\n",
       "      <td>Y</td>\n",
       "      <td>N</td>\n",
       "      <td>2412</td>\n",
       "      <td>2002</td>\n",
       "      <td>Northeast</td>\n",
       "      <td>83425.6500</td>\n",
       "      <td>Year</td>\n",
       "      <td>Y</td>\n",
       "      <td>Certified</td>\n",
       "    </tr>\n",
       "    <tr>\n",
       "      <th>2</th>\n",
       "      <td>EZYV03</td>\n",
       "      <td>Asia</td>\n",
       "      <td>Bachelor's</td>\n",
       "      <td>N</td>\n",
       "      <td>Y</td>\n",
       "      <td>44444</td>\n",
       "      <td>2008</td>\n",
       "      <td>West</td>\n",
       "      <td>122996.8600</td>\n",
       "      <td>Year</td>\n",
       "      <td>Y</td>\n",
       "      <td>Denied</td>\n",
       "    </tr>\n",
       "    <tr>\n",
       "      <th>3</th>\n",
       "      <td>EZYV04</td>\n",
       "      <td>Asia</td>\n",
       "      <td>Bachelor's</td>\n",
       "      <td>N</td>\n",
       "      <td>N</td>\n",
       "      <td>98</td>\n",
       "      <td>1897</td>\n",
       "      <td>West</td>\n",
       "      <td>83434.0300</td>\n",
       "      <td>Year</td>\n",
       "      <td>Y</td>\n",
       "      <td>Denied</td>\n",
       "    </tr>\n",
       "    <tr>\n",
       "      <th>5</th>\n",
       "      <td>EZYV06</td>\n",
       "      <td>Asia</td>\n",
       "      <td>Master's</td>\n",
       "      <td>Y</td>\n",
       "      <td>N</td>\n",
       "      <td>2339</td>\n",
       "      <td>2012</td>\n",
       "      <td>South</td>\n",
       "      <td>78252.1400</td>\n",
       "      <td>Year</td>\n",
       "      <td>Y</td>\n",
       "      <td>Certified</td>\n",
       "    </tr>\n",
       "    <tr>\n",
       "      <th>...</th>\n",
       "      <td>...</td>\n",
       "      <td>...</td>\n",
       "      <td>...</td>\n",
       "      <td>...</td>\n",
       "      <td>...</td>\n",
       "      <td>...</td>\n",
       "      <td>...</td>\n",
       "      <td>...</td>\n",
       "      <td>...</td>\n",
       "      <td>...</td>\n",
       "      <td>...</td>\n",
       "      <td>...</td>\n",
       "    </tr>\n",
       "    <tr>\n",
       "      <th>25475</th>\n",
       "      <td>EZYV25476</td>\n",
       "      <td>Asia</td>\n",
       "      <td>Bachelor's</td>\n",
       "      <td>Y</td>\n",
       "      <td>Y</td>\n",
       "      <td>2601</td>\n",
       "      <td>2008</td>\n",
       "      <td>South</td>\n",
       "      <td>77092.5700</td>\n",
       "      <td>Year</td>\n",
       "      <td>Y</td>\n",
       "      <td>Certified</td>\n",
       "    </tr>\n",
       "    <tr>\n",
       "      <th>25476</th>\n",
       "      <td>EZYV25477</td>\n",
       "      <td>Asia</td>\n",
       "      <td>High School</td>\n",
       "      <td>Y</td>\n",
       "      <td>N</td>\n",
       "      <td>3274</td>\n",
       "      <td>2006</td>\n",
       "      <td>Northeast</td>\n",
       "      <td>279174.7900</td>\n",
       "      <td>Year</td>\n",
       "      <td>Y</td>\n",
       "      <td>Certified</td>\n",
       "    </tr>\n",
       "    <tr>\n",
       "      <th>25477</th>\n",
       "      <td>EZYV25478</td>\n",
       "      <td>Asia</td>\n",
       "      <td>Master's</td>\n",
       "      <td>Y</td>\n",
       "      <td>N</td>\n",
       "      <td>1121</td>\n",
       "      <td>1910</td>\n",
       "      <td>South</td>\n",
       "      <td>146298.8500</td>\n",
       "      <td>Year</td>\n",
       "      <td>N</td>\n",
       "      <td>Certified</td>\n",
       "    </tr>\n",
       "    <tr>\n",
       "      <th>25478</th>\n",
       "      <td>EZYV25479</td>\n",
       "      <td>Asia</td>\n",
       "      <td>Master's</td>\n",
       "      <td>Y</td>\n",
       "      <td>Y</td>\n",
       "      <td>1918</td>\n",
       "      <td>1887</td>\n",
       "      <td>West</td>\n",
       "      <td>86154.7700</td>\n",
       "      <td>Year</td>\n",
       "      <td>Y</td>\n",
       "      <td>Certified</td>\n",
       "    </tr>\n",
       "    <tr>\n",
       "      <th>25479</th>\n",
       "      <td>EZYV25480</td>\n",
       "      <td>Asia</td>\n",
       "      <td>Bachelor's</td>\n",
       "      <td>Y</td>\n",
       "      <td>N</td>\n",
       "      <td>3195</td>\n",
       "      <td>1960</td>\n",
       "      <td>Midwest</td>\n",
       "      <td>70876.9100</td>\n",
       "      <td>Year</td>\n",
       "      <td>Y</td>\n",
       "      <td>Certified</td>\n",
       "    </tr>\n",
       "  </tbody>\n",
       "</table>\n",
       "<p>16861 rows × 12 columns</p>\n",
       "</div>"
      ],
      "text/plain": [
       "         case_id continent education_of_employee has_job_experience  \\\n",
       "0         EZYV01      Asia           High School                  N   \n",
       "1         EZYV02      Asia              Master's                  Y   \n",
       "2         EZYV03      Asia            Bachelor's                  N   \n",
       "3         EZYV04      Asia            Bachelor's                  N   \n",
       "5         EZYV06      Asia              Master's                  Y   \n",
       "...          ...       ...                   ...                ...   \n",
       "25475  EZYV25476      Asia            Bachelor's                  Y   \n",
       "25476  EZYV25477      Asia           High School                  Y   \n",
       "25477  EZYV25478      Asia              Master's                  Y   \n",
       "25478  EZYV25479      Asia              Master's                  Y   \n",
       "25479  EZYV25480      Asia            Bachelor's                  Y   \n",
       "\n",
       "      requires_job_training  no_of_employees  yr_of_estab  \\\n",
       "0                         N            14513         2007   \n",
       "1                         N             2412         2002   \n",
       "2                         Y            44444         2008   \n",
       "3                         N               98         1897   \n",
       "5                         N             2339         2012   \n",
       "...                     ...              ...          ...   \n",
       "25475                     Y             2601         2008   \n",
       "25476                     N             3274         2006   \n",
       "25477                     N             1121         1910   \n",
       "25478                     Y             1918         1887   \n",
       "25479                     N             3195         1960   \n",
       "\n",
       "      region_of_employment  prevailing_wage unit_of_wage full_time_position  \\\n",
       "0                     West         592.2029         Hour                  Y   \n",
       "1                Northeast       83425.6500         Year                  Y   \n",
       "2                     West      122996.8600         Year                  Y   \n",
       "3                     West       83434.0300         Year                  Y   \n",
       "5                    South       78252.1400         Year                  Y   \n",
       "...                    ...              ...          ...                ...   \n",
       "25475                South       77092.5700         Year                  Y   \n",
       "25476            Northeast      279174.7900         Year                  Y   \n",
       "25477                South      146298.8500         Year                  N   \n",
       "25478                 West       86154.7700         Year                  Y   \n",
       "25479              Midwest       70876.9100         Year                  Y   \n",
       "\n",
       "      case_status  \n",
       "0          Denied  \n",
       "1       Certified  \n",
       "2          Denied  \n",
       "3          Denied  \n",
       "5       Certified  \n",
       "...           ...  \n",
       "25475   Certified  \n",
       "25476   Certified  \n",
       "25477   Certified  \n",
       "25478   Certified  \n",
       "25479   Certified  \n",
       "\n",
       "[16861 rows x 12 columns]"
      ]
     },
     "execution_count": 16,
     "metadata": {},
     "output_type": "execute_result"
    }
   ],
   "source": [
    "con=visa_df['continent']=='Asia'\n",
    "# dataframename[con]\n",
    "visa_df[con]"
   ]
  },
  {
   "cell_type": "code",
   "execution_count": 17,
   "id": "e83864fd-b5f5-4999-bfd5-7631289ed003",
   "metadata": {},
   "outputs": [
    {
     "data": {
      "text/plain": [
       "16861"
      ]
     },
     "execution_count": 17,
     "metadata": {},
     "output_type": "execute_result"
    }
   ],
   "source": [
    "# step-1: Read the data with specific column\n",
    "# step-2: Apply the condition\n",
    "         # When we apply the condition python will give True and False\n",
    "# step-3: In order to retrieve the True data\n",
    "         # dataframe_name[con]\n",
    "visa_df['continent']\n",
    "con=visa_df['continent']=='Asia'\n",
    "len(visa_df[con])"
   ]
  },
  {
   "cell_type": "code",
   "execution_count": 18,
   "id": "179ae879-bba1-4e43-91a8-37c3a2b630ea",
   "metadata": {},
   "outputs": [
    {
     "data": {
      "text/plain": [
       "16861"
      ]
     },
     "execution_count": 18,
     "metadata": {},
     "output_type": "execute_result"
    }
   ],
   "source": [
    "con=visa_df['continent']=='Asia'\n",
    "len(visa_df[con])\n",
    "\n",
    "\n",
    "len(visa_df[visa_df['continent']=='Asia'])"
   ]
  },
  {
   "cell_type": "code",
   "execution_count": 19,
   "id": "86ca61cf-5d5c-4415-9bb9-808d9f4244fb",
   "metadata": {},
   "outputs": [
    {
     "name": "stdout",
     "output_type": "stream",
     "text": [
      "The numbr of applicants from Asia is: 16861\n",
      "The numbr of applicants from Africa is: 551\n",
      "The numbr of applicants from North America is: 3292\n",
      "The numbr of applicants from Europe is: 3732\n",
      "The numbr of applicants from South America is: 852\n",
      "The numbr of applicants from Oceania is: 192\n"
     ]
    }
   ],
   "source": [
    "for i in visa_df['continent'].unique():\n",
    "    con=visa_df['continent']==i\n",
    "    count=len(visa_df[con])\n",
    "    print(f\"The numbr of applicants from {i} is: {count}\")"
   ]
  },
  {
   "cell_type": "markdown",
   "id": "35b4ca7a-284e-44b4-9cd8-13886d97aaad",
   "metadata": {},
   "source": [
    "$task-2$\n",
    "\n",
    "- Now instead of print count, take empty list\n",
    "\n",
    "- Save the values in a empty list\n",
    "\n",
    "- We already has unique continent list\n",
    "\n",
    "- We also have count list\n",
    "\n",
    "- Create a dataframe"
   ]
  },
  {
   "cell_type": "code",
   "execution_count": 20,
   "id": "5756af1a-9e83-4075-b202-375c46ce35fb",
   "metadata": {},
   "outputs": [
    {
     "data": {
      "text/html": [
       "<div>\n",
       "<style scoped>\n",
       "    .dataframe tbody tr th:only-of-type {\n",
       "        vertical-align: middle;\n",
       "    }\n",
       "\n",
       "    .dataframe tbody tr th {\n",
       "        vertical-align: top;\n",
       "    }\n",
       "\n",
       "    .dataframe thead th {\n",
       "        text-align: right;\n",
       "    }\n",
       "</style>\n",
       "<table border=\"1\" class=\"dataframe\">\n",
       "  <thead>\n",
       "    <tr style=\"text-align: right;\">\n",
       "      <th></th>\n",
       "      <th>Continents</th>\n",
       "      <th>Number of applicants</th>\n",
       "    </tr>\n",
       "  </thead>\n",
       "  <tbody>\n",
       "    <tr>\n",
       "      <th>0</th>\n",
       "      <td>Asia</td>\n",
       "      <td>16861</td>\n",
       "    </tr>\n",
       "    <tr>\n",
       "      <th>1</th>\n",
       "      <td>Africa</td>\n",
       "      <td>551</td>\n",
       "    </tr>\n",
       "    <tr>\n",
       "      <th>2</th>\n",
       "      <td>North America</td>\n",
       "      <td>3292</td>\n",
       "    </tr>\n",
       "    <tr>\n",
       "      <th>3</th>\n",
       "      <td>Europe</td>\n",
       "      <td>3732</td>\n",
       "    </tr>\n",
       "    <tr>\n",
       "      <th>4</th>\n",
       "      <td>South America</td>\n",
       "      <td>852</td>\n",
       "    </tr>\n",
       "    <tr>\n",
       "      <th>5</th>\n",
       "      <td>Oceania</td>\n",
       "      <td>192</td>\n",
       "    </tr>\n",
       "  </tbody>\n",
       "</table>\n",
       "</div>"
      ],
      "text/plain": [
       "      Continents  Number of applicants\n",
       "0           Asia                 16861\n",
       "1         Africa                   551\n",
       "2  North America                  3292\n",
       "3         Europe                  3732\n",
       "4  South America                   852\n",
       "5        Oceania                   192"
      ]
     },
     "execution_count": 20,
     "metadata": {},
     "output_type": "execute_result"
    }
   ],
   "source": [
    "continents=visa_df['continent'].unique()\n",
    "count=[]\n",
    "for i in visa_df['continent'].unique():\n",
    "    con=visa_df['continent']==i\n",
    "    count.append(len(visa_df[con]))\n",
    "cols='Continents','Number of applicants'\n",
    "pd.DataFrame(zip(continents,count),columns=cols)"
   ]
  },
  {
   "cell_type": "code",
   "execution_count": 21,
   "id": "c1712a06-2e0c-400a-b95c-713ed50a48fe",
   "metadata": {},
   "outputs": [],
   "source": [
    "continents=visa_df['continent'].unique()\n",
    "count=[]\n",
    "for i in visa_df['continent'].unique():\n",
    "    con=visa_df['continent']==i\n",
    "    count.append(len(visa_df[con]))\n",
    "cols='Continents','Number of applicants'\n",
    "continents_df=pd.DataFrame(zip(continents,count),columns=cols)\n",
    "continents_df.to_csv('continents_df.csv',index=False)"
   ]
  },
  {
   "cell_type": "code",
   "execution_count": 22,
   "id": "ad0e3ebe-8369-437a-a217-b61f41a6258f",
   "metadata": {},
   "outputs": [],
   "source": [
    "education_of_employee=visa_df['education_of_employee'].unique()\n",
    "count=[]\n",
    "for i in visa_df['education_of_employee'].unique():\n",
    "    con=visa_df['education_of_employee']==i\n",
    "    count.append(len(visa_df[con]))\n",
    "cols='education_of_employee','Number of applicants'\n",
    "education_of_employee_df=pd.DataFrame(zip(education_of_employee,count),columns=cols)\n",
    "education_of_employee_df.to_csv('education_of_employee_df.csv',index=False)"
   ]
  },
  {
   "cell_type": "code",
   "execution_count": 23,
   "id": "8e19c2c0-aa62-4926-80a5-b4535d762034",
   "metadata": {},
   "outputs": [],
   "source": [
    "has_job_experience=visa_df['has_job_experience'].unique()\n",
    "count=[]\n",
    "for i in visa_df['has_job_experience'].unique():\n",
    "    con=visa_df['has_job_experience']==i\n",
    "    count.append(len(visa_df[con]))\n",
    "cols='has_job_experience','Number of applicants'\n",
    "has_job_experience_df=pd.DataFrame(zip(has_job_experience,count),columns=cols)\n",
    "has_job_experience_df.to_csv('has_job_experience_df.csv',index=False)"
   ]
  },
  {
   "cell_type": "code",
   "execution_count": 24,
   "id": "a845c509-e61a-4280-8480-331fb7cc8814",
   "metadata": {},
   "outputs": [],
   "source": [
    "requires_job_training=visa_df['requires_job_training'].unique()\n",
    "count=[]\n",
    "for i in visa_df['requires_job_training'].unique():\n",
    "    con=visa_df['requires_job_training']==i\n",
    "    count.append(len(visa_df[con]))\n",
    "cols='requires_job_training','Number of applicants'\n",
    "requires_job_training_df=pd.DataFrame(zip(requires_job_training,count),columns=cols)\n",
    "requires_job_training_df.to_csv('requires_job_training_df.csv',index=False)"
   ]
  },
  {
   "cell_type": "code",
   "execution_count": 25,
   "id": "83f32539-939a-4756-8f71-8b03c96ce5e0",
   "metadata": {},
   "outputs": [],
   "source": [
    "region_of_employment=visa_df['region_of_employment'].unique()\n",
    "count=[]\n",
    "for i in visa_df['region_of_employment'].unique():\n",
    "    con=visa_df['region_of_employment']==i\n",
    "    count.append(len(visa_df[con]))\n",
    "cols='region_of_employment','Number of applicants'\n",
    "region_of_employment_df=pd.DataFrame(zip(region_of_employment,count),columns=cols)\n",
    "region_of_employment_df.to_csv('region_of_employment_df.csv',index=False)"
   ]
  },
  {
   "cell_type": "code",
   "execution_count": 26,
   "id": "f3f63976-70ea-4634-8dd5-8b1364114a43",
   "metadata": {},
   "outputs": [],
   "source": [
    "unit_of_wage=visa_df['unit_of_wage'].unique()\n",
    "count=[]\n",
    "for i in visa_df['unit_of_wage'].unique():\n",
    "    con=visa_df['unit_of_wage']==i\n",
    "    count.append(len(visa_df[con]))\n",
    "cols='unit_of_wage','Number of applicants'\n",
    "unit_of_wage_df=pd.DataFrame(zip(region_of_employment,count),columns=cols)\n",
    "unit_of_wage_df.to_csv('unit_of_wage_df.csv',index=False)"
   ]
  },
  {
   "cell_type": "code",
   "execution_count": 27,
   "id": "118e6a15-264a-425c-88de-737d257e6acd",
   "metadata": {},
   "outputs": [],
   "source": [
    "full_time_position=visa_df['full_time_position'].unique()\n",
    "count=[]\n",
    "for i in visa_df['full_time_position'].unique():\n",
    "    con=visa_df['full_time_position']==i\n",
    "    count.append(len(visa_df[con]))\n",
    "cols='full_time_position','Number of applicants'\n",
    "full_time_position_df=pd.DataFrame(zip(full_time_position,count),columns=cols)\n",
    "full_time_position_df.to_csv('full_time_position_df.csv',index=False)"
   ]
  },
  {
   "cell_type": "code",
   "execution_count": 28,
   "id": "6bc985bd-c5ee-4d1a-b3cd-7764c044f6f6",
   "metadata": {},
   "outputs": [],
   "source": [
    "case_status=visa_df['case_status'].unique()\n",
    "count=[]\n",
    "for i in visa_df['case_status'].unique():\n",
    "    con=visa_df['case_status']==i\n",
    "    count.append(len(visa_df[con]))\n",
    "cols='case_status','Number of applicants'\n",
    "case_status_df=pd.DataFrame(zip(case_status,count),columns=cols)\n",
    "case_status_df.to_csv('case_statuse_df.csv',index=False)"
   ]
  },
  {
   "cell_type": "markdown",
   "id": "a8ebe452-2a90-49ff-a872-1f50f5740cb6",
   "metadata": {},
   "source": [
    "**value counts**"
   ]
  },
  {
   "cell_type": "code",
   "execution_count": 29,
   "id": "775e8033-4ba1-490f-81d0-471ce5fd5326",
   "metadata": {},
   "outputs": [
    {
     "data": {
      "text/plain": [
       "continent\n",
       "Asia             16861\n",
       "Europe            3732\n",
       "North America     3292\n",
       "South America      852\n",
       "Africa             551\n",
       "Oceania            192\n",
       "Name: count, dtype: int64"
      ]
     },
     "execution_count": 29,
     "metadata": {},
     "output_type": "execute_result"
    }
   ],
   "source": [
    "visa_df['continent'].value_counts()"
   ]
  },
  {
   "cell_type": "code",
   "execution_count": 30,
   "id": "48b66980-497d-4f50-b5fb-18c8835d7f6d",
   "metadata": {},
   "outputs": [
    {
     "data": {
      "text/html": [
       "<div>\n",
       "<style scoped>\n",
       "    .dataframe tbody tr th:only-of-type {\n",
       "        vertical-align: middle;\n",
       "    }\n",
       "\n",
       "    .dataframe tbody tr th {\n",
       "        vertical-align: top;\n",
       "    }\n",
       "\n",
       "    .dataframe thead th {\n",
       "        text-align: right;\n",
       "    }\n",
       "</style>\n",
       "<table border=\"1\" class=\"dataframe\">\n",
       "  <thead>\n",
       "    <tr style=\"text-align: right;\">\n",
       "      <th></th>\n",
       "      <th>age</th>\n",
       "      <th>job</th>\n",
       "      <th>marital</th>\n",
       "      <th>education</th>\n",
       "      <th>default</th>\n",
       "      <th>balance</th>\n",
       "      <th>housing</th>\n",
       "      <th>loan</th>\n",
       "      <th>contact</th>\n",
       "      <th>day</th>\n",
       "      <th>month</th>\n",
       "      <th>duration</th>\n",
       "      <th>campaign</th>\n",
       "      <th>pdays</th>\n",
       "      <th>previous</th>\n",
       "      <th>poutcome</th>\n",
       "      <th>y</th>\n",
       "    </tr>\n",
       "  </thead>\n",
       "  <tbody>\n",
       "    <tr>\n",
       "      <th>0</th>\n",
       "      <td>30</td>\n",
       "      <td>unemployed</td>\n",
       "      <td>married</td>\n",
       "      <td>primary</td>\n",
       "      <td>no</td>\n",
       "      <td>1787</td>\n",
       "      <td>no</td>\n",
       "      <td>no</td>\n",
       "      <td>cellular</td>\n",
       "      <td>19</td>\n",
       "      <td>oct</td>\n",
       "      <td>79</td>\n",
       "      <td>1</td>\n",
       "      <td>-1</td>\n",
       "      <td>0</td>\n",
       "      <td>unknown</td>\n",
       "      <td>no</td>\n",
       "    </tr>\n",
       "    <tr>\n",
       "      <th>1</th>\n",
       "      <td>33</td>\n",
       "      <td>services</td>\n",
       "      <td>married</td>\n",
       "      <td>secondary</td>\n",
       "      <td>no</td>\n",
       "      <td>4789</td>\n",
       "      <td>yes</td>\n",
       "      <td>yes</td>\n",
       "      <td>cellular</td>\n",
       "      <td>11</td>\n",
       "      <td>may</td>\n",
       "      <td>220</td>\n",
       "      <td>1</td>\n",
       "      <td>339</td>\n",
       "      <td>4</td>\n",
       "      <td>failure</td>\n",
       "      <td>no</td>\n",
       "    </tr>\n",
       "    <tr>\n",
       "      <th>2</th>\n",
       "      <td>35</td>\n",
       "      <td>management</td>\n",
       "      <td>single</td>\n",
       "      <td>tertiary</td>\n",
       "      <td>no</td>\n",
       "      <td>1350</td>\n",
       "      <td>yes</td>\n",
       "      <td>no</td>\n",
       "      <td>cellular</td>\n",
       "      <td>16</td>\n",
       "      <td>apr</td>\n",
       "      <td>185</td>\n",
       "      <td>1</td>\n",
       "      <td>330</td>\n",
       "      <td>1</td>\n",
       "      <td>failure</td>\n",
       "      <td>no</td>\n",
       "    </tr>\n",
       "    <tr>\n",
       "      <th>3</th>\n",
       "      <td>30</td>\n",
       "      <td>management</td>\n",
       "      <td>married</td>\n",
       "      <td>tertiary</td>\n",
       "      <td>no</td>\n",
       "      <td>1476</td>\n",
       "      <td>yes</td>\n",
       "      <td>yes</td>\n",
       "      <td>unknown</td>\n",
       "      <td>3</td>\n",
       "      <td>jun</td>\n",
       "      <td>199</td>\n",
       "      <td>4</td>\n",
       "      <td>-1</td>\n",
       "      <td>0</td>\n",
       "      <td>unknown</td>\n",
       "      <td>no</td>\n",
       "    </tr>\n",
       "    <tr>\n",
       "      <th>4</th>\n",
       "      <td>59</td>\n",
       "      <td>blue-collar</td>\n",
       "      <td>married</td>\n",
       "      <td>secondary</td>\n",
       "      <td>no</td>\n",
       "      <td>0</td>\n",
       "      <td>yes</td>\n",
       "      <td>no</td>\n",
       "      <td>unknown</td>\n",
       "      <td>5</td>\n",
       "      <td>may</td>\n",
       "      <td>226</td>\n",
       "      <td>1</td>\n",
       "      <td>-1</td>\n",
       "      <td>0</td>\n",
       "      <td>unknown</td>\n",
       "      <td>no</td>\n",
       "    </tr>\n",
       "  </tbody>\n",
       "</table>\n",
       "</div>"
      ],
      "text/plain": [
       "   age          job  marital  education default  balance housing loan  \\\n",
       "0   30   unemployed  married    primary      no     1787      no   no   \n",
       "1   33     services  married  secondary      no     4789     yes  yes   \n",
       "2   35   management   single   tertiary      no     1350     yes   no   \n",
       "3   30   management  married   tertiary      no     1476     yes  yes   \n",
       "4   59  blue-collar  married  secondary      no        0     yes   no   \n",
       "\n",
       "    contact  day month  duration  campaign  pdays  previous poutcome   y  \n",
       "0  cellular   19   oct        79         1     -1         0  unknown  no  \n",
       "1  cellular   11   may       220         1    339         4  failure  no  \n",
       "2  cellular   16   apr       185         1    330         1  failure  no  \n",
       "3   unknown    3   jun       199         4     -1         0  unknown  no  \n",
       "4   unknown    5   may       226         1     -1         0  unknown  no  "
      ]
     },
     "execution_count": 30,
     "metadata": {},
     "output_type": "execute_result"
    }
   ],
   "source": [
    "bank_df=pd.read_csv(\"bank.csv\",sep=';')\n",
    "bank_df.head()"
   ]
  },
  {
   "cell_type": "code",
   "execution_count": 31,
   "id": "07cbc44b-959b-4ed1-9077-38c100dadda4",
   "metadata": {},
   "outputs": [],
   "source": [
    "types=dict(bank_df.dtypes)\n",
    "cat_columns=[key for key, value in types.items() if value=='object']\n",
    "num_columns=[key for key, value in types.items() if value!='object']"
   ]
  },
  {
   "cell_type": "code",
   "execution_count": 32,
   "id": "d025ce28-af91-4c95-8ec5-5f2776bfee30",
   "metadata": {},
   "outputs": [
    {
     "data": {
      "text/plain": [
       "Index(['job', 'marital', 'education', 'default', 'housing', 'loan', 'contact',\n",
       "       'month', 'poutcome', 'y'],\n",
       "      dtype='object')"
      ]
     },
     "execution_count": 32,
     "metadata": {},
     "output_type": "execute_result"
    }
   ],
   "source": [
    "cat_columns=bank_df.select_dtypes(include='object').columns\n",
    "num_columns=bank_df.select_dtypes(exclude='object').columns\n",
    "cat_columns"
   ]
  },
  {
   "cell_type": "code",
   "execution_count": 33,
   "id": "e581f05b-6a59-428b-860f-9b22bf9adbb2",
   "metadata": {},
   "outputs": [
    {
     "data": {
      "text/html": [
       "<div>\n",
       "<style scoped>\n",
       "    .dataframe tbody tr th:only-of-type {\n",
       "        vertical-align: middle;\n",
       "    }\n",
       "\n",
       "    .dataframe tbody tr th {\n",
       "        vertical-align: top;\n",
       "    }\n",
       "\n",
       "    .dataframe thead th {\n",
       "        text-align: right;\n",
       "    }\n",
       "</style>\n",
       "<table border=\"1\" class=\"dataframe\">\n",
       "  <thead>\n",
       "    <tr style=\"text-align: right;\">\n",
       "      <th></th>\n",
       "      <th>Job</th>\n",
       "      <th>Number of applicants</th>\n",
       "    </tr>\n",
       "  </thead>\n",
       "  <tbody>\n",
       "    <tr>\n",
       "      <th>0</th>\n",
       "      <td>unemployed</td>\n",
       "      <td>128</td>\n",
       "    </tr>\n",
       "    <tr>\n",
       "      <th>1</th>\n",
       "      <td>services</td>\n",
       "      <td>417</td>\n",
       "    </tr>\n",
       "    <tr>\n",
       "      <th>2</th>\n",
       "      <td>management</td>\n",
       "      <td>969</td>\n",
       "    </tr>\n",
       "    <tr>\n",
       "      <th>3</th>\n",
       "      <td>blue-collar</td>\n",
       "      <td>946</td>\n",
       "    </tr>\n",
       "    <tr>\n",
       "      <th>4</th>\n",
       "      <td>self-employed</td>\n",
       "      <td>183</td>\n",
       "    </tr>\n",
       "    <tr>\n",
       "      <th>5</th>\n",
       "      <td>technician</td>\n",
       "      <td>768</td>\n",
       "    </tr>\n",
       "    <tr>\n",
       "      <th>6</th>\n",
       "      <td>entrepreneur</td>\n",
       "      <td>168</td>\n",
       "    </tr>\n",
       "    <tr>\n",
       "      <th>7</th>\n",
       "      <td>admin.</td>\n",
       "      <td>478</td>\n",
       "    </tr>\n",
       "    <tr>\n",
       "      <th>8</th>\n",
       "      <td>student</td>\n",
       "      <td>84</td>\n",
       "    </tr>\n",
       "    <tr>\n",
       "      <th>9</th>\n",
       "      <td>housemaid</td>\n",
       "      <td>112</td>\n",
       "    </tr>\n",
       "    <tr>\n",
       "      <th>10</th>\n",
       "      <td>retired</td>\n",
       "      <td>230</td>\n",
       "    </tr>\n",
       "    <tr>\n",
       "      <th>11</th>\n",
       "      <td>unknown</td>\n",
       "      <td>38</td>\n",
       "    </tr>\n",
       "  </tbody>\n",
       "</table>\n",
       "</div>"
      ],
      "text/plain": [
       "              Job  Number of applicants\n",
       "0      unemployed                   128\n",
       "1        services                   417\n",
       "2      management                   969\n",
       "3     blue-collar                   946\n",
       "4   self-employed                   183\n",
       "5      technician                   768\n",
       "6    entrepreneur                   168\n",
       "7          admin.                   478\n",
       "8         student                    84\n",
       "9       housemaid                   112\n",
       "10        retired                   230\n",
       "11        unknown                    38"
      ]
     },
     "execution_count": 33,
     "metadata": {},
     "output_type": "execute_result"
    }
   ],
   "source": [
    "job=bank_df['job'].unique()\n",
    "count=[]\n",
    "for i in bank_df['job'].unique():\n",
    "    con=bank_df['job']==i\n",
    "    count.append(len(bank_df[con]))\n",
    "cols='Job','Number of applicants'\n",
    "pd.DataFrame(zip(job,count),columns=cols)"
   ]
  },
  {
   "cell_type": "code",
   "execution_count": 34,
   "id": "e3289425-ca5a-47c9-9a64-1423cc69158e",
   "metadata": {},
   "outputs": [],
   "source": [
    "job=bank_df['job'].unique()\n",
    "count=[]\n",
    "for i in bank_df['job'].unique():\n",
    "    con=bank_df['job']==i\n",
    "    count.append(len(bank_df[con]))\n",
    "cols='Job','Number of applicants'\n",
    "job_df=pd.DataFrame(zip(job,count),columns=cols)\n",
    "job_df.to_csv('job_df.csv',index=False)\n"
   ]
  },
  {
   "cell_type": "code",
   "execution_count": 35,
   "id": "14d9dba5-2a30-4b53-b661-14ded8dae554",
   "metadata": {},
   "outputs": [
    {
     "data": {
      "text/html": [
       "<div>\n",
       "<style scoped>\n",
       "    .dataframe tbody tr th:only-of-type {\n",
       "        vertical-align: middle;\n",
       "    }\n",
       "\n",
       "    .dataframe tbody tr th {\n",
       "        vertical-align: top;\n",
       "    }\n",
       "\n",
       "    .dataframe thead th {\n",
       "        text-align: right;\n",
       "    }\n",
       "</style>\n",
       "<table border=\"1\" class=\"dataframe\">\n",
       "  <thead>\n",
       "    <tr style=\"text-align: right;\">\n",
       "      <th></th>\n",
       "      <th>Marital</th>\n",
       "      <th>Number of applicants</th>\n",
       "    </tr>\n",
       "  </thead>\n",
       "  <tbody>\n",
       "    <tr>\n",
       "      <th>0</th>\n",
       "      <td>married</td>\n",
       "      <td>2797</td>\n",
       "    </tr>\n",
       "    <tr>\n",
       "      <th>1</th>\n",
       "      <td>single</td>\n",
       "      <td>1196</td>\n",
       "    </tr>\n",
       "    <tr>\n",
       "      <th>2</th>\n",
       "      <td>divorced</td>\n",
       "      <td>528</td>\n",
       "    </tr>\n",
       "  </tbody>\n",
       "</table>\n",
       "</div>"
      ],
      "text/plain": [
       "    Marital  Number of applicants\n",
       "0   married                  2797\n",
       "1    single                  1196\n",
       "2  divorced                   528"
      ]
     },
     "execution_count": 35,
     "metadata": {},
     "output_type": "execute_result"
    }
   ],
   "source": [
    "marital=bank_df['marital'].unique()\n",
    "count=[]\n",
    "for i in bank_df['marital'].unique():\n",
    "    con=bank_df['marital']==i\n",
    "    count.append(len(bank_df[con]))\n",
    "cols='Marital','Number of applicants'\n",
    "pd.DataFrame(zip(marital,count),columns=cols)"
   ]
  },
  {
   "cell_type": "code",
   "execution_count": 36,
   "id": "ae887a25-223f-4759-b987-e3e0d01a6ba7",
   "metadata": {},
   "outputs": [],
   "source": [
    "marital=bank_df['marital'].unique()\n",
    "count=[]\n",
    "for i in bank_df['marital'].unique():\n",
    "    con=bank_df['marital']==i\n",
    "    count.append(len(bank_df[con]))\n",
    "cols='Marital','Number of applicants'\n",
    "marital_df=pd.DataFrame(zip(marital,count),columns=cols)\n",
    "marital_df.to_csv('marital_df.csv',index=False)"
   ]
  },
  {
   "cell_type": "code",
   "execution_count": 37,
   "id": "aae1c5ee-6697-478b-9f78-d86347f13262",
   "metadata": {},
   "outputs": [
    {
     "data": {
      "text/html": [
       "<div>\n",
       "<style scoped>\n",
       "    .dataframe tbody tr th:only-of-type {\n",
       "        vertical-align: middle;\n",
       "    }\n",
       "\n",
       "    .dataframe tbody tr th {\n",
       "        vertical-align: top;\n",
       "    }\n",
       "\n",
       "    .dataframe thead th {\n",
       "        text-align: right;\n",
       "    }\n",
       "</style>\n",
       "<table border=\"1\" class=\"dataframe\">\n",
       "  <thead>\n",
       "    <tr style=\"text-align: right;\">\n",
       "      <th></th>\n",
       "      <th>Education</th>\n",
       "      <th>Number of applicants</th>\n",
       "    </tr>\n",
       "  </thead>\n",
       "  <tbody>\n",
       "    <tr>\n",
       "      <th>0</th>\n",
       "      <td>primary</td>\n",
       "      <td>678</td>\n",
       "    </tr>\n",
       "    <tr>\n",
       "      <th>1</th>\n",
       "      <td>secondary</td>\n",
       "      <td>2306</td>\n",
       "    </tr>\n",
       "    <tr>\n",
       "      <th>2</th>\n",
       "      <td>tertiary</td>\n",
       "      <td>1350</td>\n",
       "    </tr>\n",
       "    <tr>\n",
       "      <th>3</th>\n",
       "      <td>unknown</td>\n",
       "      <td>187</td>\n",
       "    </tr>\n",
       "  </tbody>\n",
       "</table>\n",
       "</div>"
      ],
      "text/plain": [
       "   Education  Number of applicants\n",
       "0    primary                   678\n",
       "1  secondary                  2306\n",
       "2   tertiary                  1350\n",
       "3    unknown                   187"
      ]
     },
     "execution_count": 37,
     "metadata": {},
     "output_type": "execute_result"
    }
   ],
   "source": [
    "education=bank_df['education'].unique()\n",
    "count=[]\n",
    "for i in bank_df['education'].unique():\n",
    "    con=bank_df['education']==i\n",
    "    count.append(len(bank_df[con]))\n",
    "cols='Education','Number of applicants'\n",
    "pd.DataFrame(zip(education,count),columns=cols)"
   ]
  },
  {
   "cell_type": "code",
   "execution_count": 38,
   "id": "4d2aefaf-b4e8-4d57-a168-62edeb68212a",
   "metadata": {},
   "outputs": [],
   "source": [
    "education=bank_df['education'].unique()\n",
    "count=[]\n",
    "for i in bank_df['education'].unique():\n",
    "    con=bank_df['education']==i\n",
    "    count.append(len(bank_df[con]))\n",
    "cols='Education','Number of applicants'\n",
    "education_df=pd.DataFrame(zip(education,count),columns=cols)\n",
    "education_df.to_csv('education_df.csv',index=False)"
   ]
  },
  {
   "cell_type": "code",
   "execution_count": 39,
   "id": "1dfb4505-3dab-425f-977f-277a6a16bb15",
   "metadata": {},
   "outputs": [
    {
     "data": {
      "text/html": [
       "<div>\n",
       "<style scoped>\n",
       "    .dataframe tbody tr th:only-of-type {\n",
       "        vertical-align: middle;\n",
       "    }\n",
       "\n",
       "    .dataframe tbody tr th {\n",
       "        vertical-align: top;\n",
       "    }\n",
       "\n",
       "    .dataframe thead th {\n",
       "        text-align: right;\n",
       "    }\n",
       "</style>\n",
       "<table border=\"1\" class=\"dataframe\">\n",
       "  <thead>\n",
       "    <tr style=\"text-align: right;\">\n",
       "      <th></th>\n",
       "      <th>Default</th>\n",
       "      <th>Number of applicants</th>\n",
       "    </tr>\n",
       "  </thead>\n",
       "  <tbody>\n",
       "    <tr>\n",
       "      <th>0</th>\n",
       "      <td>no</td>\n",
       "      <td>4445</td>\n",
       "    </tr>\n",
       "    <tr>\n",
       "      <th>1</th>\n",
       "      <td>yes</td>\n",
       "      <td>76</td>\n",
       "    </tr>\n",
       "  </tbody>\n",
       "</table>\n",
       "</div>"
      ],
      "text/plain": [
       "  Default  Number of applicants\n",
       "0      no                  4445\n",
       "1     yes                    76"
      ]
     },
     "execution_count": 39,
     "metadata": {},
     "output_type": "execute_result"
    }
   ],
   "source": [
    "default=bank_df['default'].unique()\n",
    "count=[]\n",
    "for i in bank_df['default'].unique():\n",
    "    con=bank_df['default']==i\n",
    "    count.append(len(bank_df[con]))\n",
    "cols='Default','Number of applicants'\n",
    "pd.DataFrame(zip(default,count),columns=cols)"
   ]
  },
  {
   "cell_type": "code",
   "execution_count": 40,
   "id": "7fe5e66e-d70b-4e00-9f22-51e02b6364fb",
   "metadata": {},
   "outputs": [],
   "source": [
    "default=bank_df['default'].unique()\n",
    "count=[]\n",
    "for i in bank_df['default'].unique():\n",
    "    con=bank_df['default']==i\n",
    "    count.append(len(bank_df[con]))\n",
    "cols='Default','Number of applicants'\n",
    "default_df=pd.DataFrame(zip(default,count),columns=cols)\n",
    "default_df.to_csv('default_df.csv',index=False)"
   ]
  },
  {
   "cell_type": "code",
   "execution_count": 41,
   "id": "cb5756e2-2420-485f-9062-ad2837003e48",
   "metadata": {},
   "outputs": [
    {
     "data": {
      "text/html": [
       "<div>\n",
       "<style scoped>\n",
       "    .dataframe tbody tr th:only-of-type {\n",
       "        vertical-align: middle;\n",
       "    }\n",
       "\n",
       "    .dataframe tbody tr th {\n",
       "        vertical-align: top;\n",
       "    }\n",
       "\n",
       "    .dataframe thead th {\n",
       "        text-align: right;\n",
       "    }\n",
       "</style>\n",
       "<table border=\"1\" class=\"dataframe\">\n",
       "  <thead>\n",
       "    <tr style=\"text-align: right;\">\n",
       "      <th></th>\n",
       "      <th>Housing</th>\n",
       "      <th>Number of applicants</th>\n",
       "    </tr>\n",
       "  </thead>\n",
       "  <tbody>\n",
       "    <tr>\n",
       "      <th>0</th>\n",
       "      <td>no</td>\n",
       "      <td>1962</td>\n",
       "    </tr>\n",
       "    <tr>\n",
       "      <th>1</th>\n",
       "      <td>yes</td>\n",
       "      <td>2559</td>\n",
       "    </tr>\n",
       "  </tbody>\n",
       "</table>\n",
       "</div>"
      ],
      "text/plain": [
       "  Housing  Number of applicants\n",
       "0      no                  1962\n",
       "1     yes                  2559"
      ]
     },
     "execution_count": 41,
     "metadata": {},
     "output_type": "execute_result"
    }
   ],
   "source": [
    "housing=bank_df['housing'].unique()\n",
    "count=[]\n",
    "for i in bank_df['housing'].unique():\n",
    "    con=bank_df['housing']==i\n",
    "    count.append(len(bank_df[con]))\n",
    "cols='Housing','Number of applicants'\n",
    "pd.DataFrame(zip(housing,count),columns=cols)"
   ]
  },
  {
   "cell_type": "code",
   "execution_count": 42,
   "id": "07cdde2a-1097-40bf-980c-3b60f99e4363",
   "metadata": {},
   "outputs": [],
   "source": [
    "housing=bank_df['housing'].unique()\n",
    "count=[]\n",
    "for i in bank_df['housing'].unique():\n",
    "    con=bank_df['housing']==i\n",
    "    count.append(len(bank_df[con]))\n",
    "cols='Housing','Number of applicants'\n",
    "housing_df=pd.DataFrame(zip(housing,count),columns=cols)\n",
    "housing_df.to_csv('housing_df.csv',index=False)"
   ]
  },
  {
   "cell_type": "code",
   "execution_count": 43,
   "id": "c7dead8f-53a7-45d4-82bf-4b2d7f7321cc",
   "metadata": {},
   "outputs": [
    {
     "data": {
      "text/html": [
       "<div>\n",
       "<style scoped>\n",
       "    .dataframe tbody tr th:only-of-type {\n",
       "        vertical-align: middle;\n",
       "    }\n",
       "\n",
       "    .dataframe tbody tr th {\n",
       "        vertical-align: top;\n",
       "    }\n",
       "\n",
       "    .dataframe thead th {\n",
       "        text-align: right;\n",
       "    }\n",
       "</style>\n",
       "<table border=\"1\" class=\"dataframe\">\n",
       "  <thead>\n",
       "    <tr style=\"text-align: right;\">\n",
       "      <th></th>\n",
       "      <th>Loan</th>\n",
       "      <th>Number of applicants</th>\n",
       "    </tr>\n",
       "  </thead>\n",
       "  <tbody>\n",
       "    <tr>\n",
       "      <th>0</th>\n",
       "      <td>no</td>\n",
       "      <td>3830</td>\n",
       "    </tr>\n",
       "    <tr>\n",
       "      <th>1</th>\n",
       "      <td>yes</td>\n",
       "      <td>691</td>\n",
       "    </tr>\n",
       "  </tbody>\n",
       "</table>\n",
       "</div>"
      ],
      "text/plain": [
       "  Loan  Number of applicants\n",
       "0   no                  3830\n",
       "1  yes                   691"
      ]
     },
     "execution_count": 43,
     "metadata": {},
     "output_type": "execute_result"
    }
   ],
   "source": [
    "loan=bank_df['loan'].unique()\n",
    "count=[]\n",
    "for i in bank_df['loan'].unique():\n",
    "    con=bank_df['loan']==i\n",
    "    count.append(len(bank_df[con]))\n",
    "cols='Loan','Number of applicants'\n",
    "pd.DataFrame(zip(loan,count),columns=cols)"
   ]
  },
  {
   "cell_type": "code",
   "execution_count": 44,
   "id": "dcf8ed08-d217-4ce6-86f0-a02b717b74ea",
   "metadata": {},
   "outputs": [],
   "source": [
    "loan=bank_df['loan'].unique()\n",
    "count=[]\n",
    "for i in bank_df['loan'].unique():\n",
    "    con=bank_df['loan']==i\n",
    "    count.append(len(bank_df[con]))\n",
    "cols='Loan','Number of applicants'\n",
    "loan_df=pd.DataFrame(zip(loan,count),columns=cols)\n",
    "loan_df.to_csv('loan_df.csv',index=False)"
   ]
  },
  {
   "cell_type": "code",
   "execution_count": 45,
   "id": "58837e0f-f010-41e5-b36c-f0c3c96901e8",
   "metadata": {},
   "outputs": [
    {
     "data": {
      "text/html": [
       "<div>\n",
       "<style scoped>\n",
       "    .dataframe tbody tr th:only-of-type {\n",
       "        vertical-align: middle;\n",
       "    }\n",
       "\n",
       "    .dataframe tbody tr th {\n",
       "        vertical-align: top;\n",
       "    }\n",
       "\n",
       "    .dataframe thead th {\n",
       "        text-align: right;\n",
       "    }\n",
       "</style>\n",
       "<table border=\"1\" class=\"dataframe\">\n",
       "  <thead>\n",
       "    <tr style=\"text-align: right;\">\n",
       "      <th></th>\n",
       "      <th>Contact</th>\n",
       "      <th>Number of applicants</th>\n",
       "    </tr>\n",
       "  </thead>\n",
       "  <tbody>\n",
       "    <tr>\n",
       "      <th>0</th>\n",
       "      <td>cellular</td>\n",
       "      <td>2896</td>\n",
       "    </tr>\n",
       "    <tr>\n",
       "      <th>1</th>\n",
       "      <td>unknown</td>\n",
       "      <td>1324</td>\n",
       "    </tr>\n",
       "    <tr>\n",
       "      <th>2</th>\n",
       "      <td>telephone</td>\n",
       "      <td>301</td>\n",
       "    </tr>\n",
       "  </tbody>\n",
       "</table>\n",
       "</div>"
      ],
      "text/plain": [
       "     Contact  Number of applicants\n",
       "0   cellular                  2896\n",
       "1    unknown                  1324\n",
       "2  telephone                   301"
      ]
     },
     "execution_count": 45,
     "metadata": {},
     "output_type": "execute_result"
    }
   ],
   "source": [
    "contact=bank_df['contact'].unique()\n",
    "count=[]\n",
    "for i in bank_df['contact'].unique():\n",
    "    con=bank_df['contact']==i\n",
    "    count.append(len(bank_df[con]))\n",
    "cols='Contact','Number of applicants'\n",
    "pd.DataFrame(zip(contact,count),columns=cols)"
   ]
  },
  {
   "cell_type": "code",
   "execution_count": 46,
   "id": "adc9b8fd-3244-47fa-9cfd-c24c4acb72a7",
   "metadata": {},
   "outputs": [],
   "source": [
    "contact=bank_df['contact'].unique()\n",
    "count=[]\n",
    "for i in bank_df['contact'].unique():\n",
    "    con=bank_df['contact']==i\n",
    "    count.append(len(bank_df[con]))\n",
    "cols='Contact','Number of applicants'\n",
    "contact_df=pd.DataFrame(zip(contact,count),columns=cols)\n",
    "contact_df.to_csv('contact_df.csv',index=False)"
   ]
  },
  {
   "cell_type": "code",
   "execution_count": 47,
   "id": "969e66cd-6f9c-48f2-8f63-9c58cc375475",
   "metadata": {},
   "outputs": [
    {
     "data": {
      "text/html": [
       "<div>\n",
       "<style scoped>\n",
       "    .dataframe tbody tr th:only-of-type {\n",
       "        vertical-align: middle;\n",
       "    }\n",
       "\n",
       "    .dataframe tbody tr th {\n",
       "        vertical-align: top;\n",
       "    }\n",
       "\n",
       "    .dataframe thead th {\n",
       "        text-align: right;\n",
       "    }\n",
       "</style>\n",
       "<table border=\"1\" class=\"dataframe\">\n",
       "  <thead>\n",
       "    <tr style=\"text-align: right;\">\n",
       "      <th></th>\n",
       "      <th>Month</th>\n",
       "      <th>Number of applicants</th>\n",
       "    </tr>\n",
       "  </thead>\n",
       "  <tbody>\n",
       "    <tr>\n",
       "      <th>0</th>\n",
       "      <td>oct</td>\n",
       "      <td>80</td>\n",
       "    </tr>\n",
       "    <tr>\n",
       "      <th>1</th>\n",
       "      <td>may</td>\n",
       "      <td>1398</td>\n",
       "    </tr>\n",
       "    <tr>\n",
       "      <th>2</th>\n",
       "      <td>apr</td>\n",
       "      <td>293</td>\n",
       "    </tr>\n",
       "    <tr>\n",
       "      <th>3</th>\n",
       "      <td>jun</td>\n",
       "      <td>531</td>\n",
       "    </tr>\n",
       "    <tr>\n",
       "      <th>4</th>\n",
       "      <td>feb</td>\n",
       "      <td>222</td>\n",
       "    </tr>\n",
       "    <tr>\n",
       "      <th>5</th>\n",
       "      <td>aug</td>\n",
       "      <td>633</td>\n",
       "    </tr>\n",
       "    <tr>\n",
       "      <th>6</th>\n",
       "      <td>jan</td>\n",
       "      <td>148</td>\n",
       "    </tr>\n",
       "    <tr>\n",
       "      <th>7</th>\n",
       "      <td>jul</td>\n",
       "      <td>706</td>\n",
       "    </tr>\n",
       "    <tr>\n",
       "      <th>8</th>\n",
       "      <td>nov</td>\n",
       "      <td>389</td>\n",
       "    </tr>\n",
       "    <tr>\n",
       "      <th>9</th>\n",
       "      <td>sep</td>\n",
       "      <td>52</td>\n",
       "    </tr>\n",
       "    <tr>\n",
       "      <th>10</th>\n",
       "      <td>mar</td>\n",
       "      <td>49</td>\n",
       "    </tr>\n",
       "    <tr>\n",
       "      <th>11</th>\n",
       "      <td>dec</td>\n",
       "      <td>20</td>\n",
       "    </tr>\n",
       "  </tbody>\n",
       "</table>\n",
       "</div>"
      ],
      "text/plain": [
       "   Month  Number of applicants\n",
       "0    oct                    80\n",
       "1    may                  1398\n",
       "2    apr                   293\n",
       "3    jun                   531\n",
       "4    feb                   222\n",
       "5    aug                   633\n",
       "6    jan                   148\n",
       "7    jul                   706\n",
       "8    nov                   389\n",
       "9    sep                    52\n",
       "10   mar                    49\n",
       "11   dec                    20"
      ]
     },
     "execution_count": 47,
     "metadata": {},
     "output_type": "execute_result"
    }
   ],
   "source": [
    "month=bank_df['month'].unique()\n",
    "count=[]\n",
    "for i in bank_df['month'].unique():\n",
    "    con=bank_df['month']==i\n",
    "    count.append(len(bank_df[con]))\n",
    "cols='Month','Number of applicants'\n",
    "pd.DataFrame(zip(month,count),columns=cols)"
   ]
  },
  {
   "cell_type": "code",
   "execution_count": 48,
   "id": "49b43591-5b93-41ae-8ea8-6618b852975c",
   "metadata": {},
   "outputs": [],
   "source": [
    "month=bank_df['month'].unique()\n",
    "count=[]\n",
    "for i in bank_df['month'].unique():\n",
    "    con=bank_df['month']==i\n",
    "    count.append(len(bank_df[con]))\n",
    "cols='Month','Number of applicants'\n",
    "month_df=pd.DataFrame(zip(month,count),columns=cols)\n",
    "month_df.to_csv('month_df.csv',index=False)"
   ]
  },
  {
   "cell_type": "code",
   "execution_count": 49,
   "id": "16681a39-8ad1-4b93-9fd9-a5658241cf1e",
   "metadata": {},
   "outputs": [
    {
     "data": {
      "text/html": [
       "<div>\n",
       "<style scoped>\n",
       "    .dataframe tbody tr th:only-of-type {\n",
       "        vertical-align: middle;\n",
       "    }\n",
       "\n",
       "    .dataframe tbody tr th {\n",
       "        vertical-align: top;\n",
       "    }\n",
       "\n",
       "    .dataframe thead th {\n",
       "        text-align: right;\n",
       "    }\n",
       "</style>\n",
       "<table border=\"1\" class=\"dataframe\">\n",
       "  <thead>\n",
       "    <tr style=\"text-align: right;\">\n",
       "      <th></th>\n",
       "      <th>Poutcome</th>\n",
       "      <th>Number of applicants</th>\n",
       "    </tr>\n",
       "  </thead>\n",
       "  <tbody>\n",
       "    <tr>\n",
       "      <th>0</th>\n",
       "      <td>unknown</td>\n",
       "      <td>3705</td>\n",
       "    </tr>\n",
       "    <tr>\n",
       "      <th>1</th>\n",
       "      <td>failure</td>\n",
       "      <td>490</td>\n",
       "    </tr>\n",
       "    <tr>\n",
       "      <th>2</th>\n",
       "      <td>other</td>\n",
       "      <td>197</td>\n",
       "    </tr>\n",
       "    <tr>\n",
       "      <th>3</th>\n",
       "      <td>success</td>\n",
       "      <td>129</td>\n",
       "    </tr>\n",
       "  </tbody>\n",
       "</table>\n",
       "</div>"
      ],
      "text/plain": [
       "  Poutcome  Number of applicants\n",
       "0  unknown                  3705\n",
       "1  failure                   490\n",
       "2    other                   197\n",
       "3  success                   129"
      ]
     },
     "execution_count": 49,
     "metadata": {},
     "output_type": "execute_result"
    }
   ],
   "source": [
    "poutcome=bank_df['poutcome'].unique()\n",
    "count=[]\n",
    "for i in bank_df['poutcome'].unique():\n",
    "    con=bank_df['poutcome']==i\n",
    "    count.append(len(bank_df[con]))\n",
    "cols='Poutcome','Number of applicants'\n",
    "pd.DataFrame(zip(poutcome,count),columns=cols)"
   ]
  },
  {
   "cell_type": "code",
   "execution_count": 50,
   "id": "60b0627d-f6c3-419f-a703-6488ed8fbd67",
   "metadata": {},
   "outputs": [],
   "source": [
    "poutcome=bank_df['poutcome'].unique()\n",
    "count=[]\n",
    "for i in bank_df['poutcome'].unique():\n",
    "    con=bank_df['poutcome']==i\n",
    "    count.append(len(bank_df[con]))\n",
    "cols='Poutcome','Number of applicants'\n",
    "poutcome_df=pd.DataFrame(zip(poutcome,count),columns=cols)\n",
    "poutcome_df.to_csv('poutcome_df.csv',index=False)"
   ]
  },
  {
   "cell_type": "code",
   "execution_count": 51,
   "id": "a35a3693-f112-411f-b1a0-b6fe8efa22e4",
   "metadata": {},
   "outputs": [
    {
     "data": {
      "text/html": [
       "<div>\n",
       "<style scoped>\n",
       "    .dataframe tbody tr th:only-of-type {\n",
       "        vertical-align: middle;\n",
       "    }\n",
       "\n",
       "    .dataframe tbody tr th {\n",
       "        vertical-align: top;\n",
       "    }\n",
       "\n",
       "    .dataframe thead th {\n",
       "        text-align: right;\n",
       "    }\n",
       "</style>\n",
       "<table border=\"1\" class=\"dataframe\">\n",
       "  <thead>\n",
       "    <tr style=\"text-align: right;\">\n",
       "      <th></th>\n",
       "      <th>y</th>\n",
       "      <th>Number of applicants</th>\n",
       "    </tr>\n",
       "  </thead>\n",
       "  <tbody>\n",
       "    <tr>\n",
       "      <th>0</th>\n",
       "      <td>no</td>\n",
       "      <td>4000</td>\n",
       "    </tr>\n",
       "    <tr>\n",
       "      <th>1</th>\n",
       "      <td>yes</td>\n",
       "      <td>521</td>\n",
       "    </tr>\n",
       "  </tbody>\n",
       "</table>\n",
       "</div>"
      ],
      "text/plain": [
       "     y  Number of applicants\n",
       "0   no                  4000\n",
       "1  yes                   521"
      ]
     },
     "execution_count": 51,
     "metadata": {},
     "output_type": "execute_result"
    }
   ],
   "source": [
    "y=bank_df['y'].unique()\n",
    "count=[]\n",
    "for i in bank_df['y'].unique():\n",
    "    con=bank_df['y']==i\n",
    "    count.append(len(bank_df[con]))\n",
    "cols='y','Number of applicants'\n",
    "pd.DataFrame(zip(y,count),columns=cols)"
   ]
  },
  {
   "cell_type": "code",
   "execution_count": 52,
   "id": "47baffbf-dfd8-42ba-80ad-f9ffc1d77fa6",
   "metadata": {},
   "outputs": [],
   "source": [
    "y=bank_df['y'].unique()\n",
    "count=[]\n",
    "for i in bank_df['y'].unique():\n",
    "    con=bank_df['y']==i\n",
    "    count.append(len(bank_df[con]))\n",
    "cols='y','Number of applicants'\n",
    "y_df=pd.DataFrame(zip(y,count),columns=cols)\n",
    "y_df.to_csv('y_df.csv',index=False)"
   ]
  },
  {
   "cell_type": "code",
   "execution_count": 53,
   "id": "fd57c5ca-e4fc-46ef-95c9-dfb40c9ff968",
   "metadata": {},
   "outputs": [
    {
     "data": {
      "text/plain": [
       "continent\n",
       "Asia             16861\n",
       "Europe            3732\n",
       "North America     3292\n",
       "South America      852\n",
       "Africa             551\n",
       "Oceania            192\n",
       "Name: count, dtype: int64"
      ]
     },
     "execution_count": 53,
     "metadata": {},
     "output_type": "execute_result"
    }
   ],
   "source": [
    "visa_df['continent'].value_counts()"
   ]
  },
  {
   "cell_type": "code",
   "execution_count": 54,
   "id": "48feb789-caee-4c70-bf44-aaa66efe4a80",
   "metadata": {},
   "outputs": [
    {
     "ename": "SyntaxError",
     "evalue": "invalid syntax (2229128195.py, line 1)",
     "output_type": "error",
     "traceback": [
      "\u001b[1;36m  Cell \u001b[1;32mIn[54], line 1\u001b[1;36m\u001b[0m\n\u001b[1;33m    - We created a dataframe of unique values of a columns and its count\u001b[0m\n\u001b[1;37m         ^\u001b[0m\n\u001b[1;31mSyntaxError\u001b[0m\u001b[1;31m:\u001b[0m invalid syntax\n"
     ]
    }
   ],
   "source": [
    "- We created a dataframe of unique values of a columns and its count\n",
    "\n",
    "- We created by our own way, by using for loop\n",
    "\n",
    "- The same operation we can get "
   ]
  },
  {
   "cell_type": "code",
   "execution_count": null,
   "id": "fb5777d1-efb8-4692-ac24-b6ed7bc03c29",
   "metadata": {},
   "outputs": [],
   "source": [
    "cdf=visa_df['continent'].value_counts()"
   ]
  },
  {
   "cell_type": "code",
   "execution_count": null,
   "id": "94aea246-f434-4aae-9cee-0946942b96dc",
   "metadata": {
    "scrolled": true
   },
   "outputs": [],
   "source": [
    "dir(cdf)"
   ]
  },
  {
   "cell_type": "code",
   "execution_count": null,
   "id": "779b1354-2a1e-4efd-a51f-274059523ea5",
   "metadata": {},
   "outputs": [],
   "source": [
    "type(cdf)\n"
   ]
  },
  {
   "cell_type": "code",
   "execution_count": null,
   "id": "8b84339b-0169-48e1-8515-a0c3bf92d4de",
   "metadata": {},
   "outputs": [],
   "source": [
    "keys=cdf.keys()\n",
    "values=cdf.values\n",
    "pd.DataFrame(zip(keys,values))"
   ]
  },
  {
   "cell_type": "code",
   "execution_count": null,
   "id": "4bf3827a-f92c-4c2a-a897-8143e8567f88",
   "metadata": {},
   "outputs": [],
   "source": [
    "cdf=visa_df['continent'].value_counts()\n",
    "keys=cdf.keys()\n",
    "values=cdf.values\n",
    "cols=['Labels','Count']\n",
    "df=pd.DataFrame(zip(keys,values),columns=cols)\n",
    "df.to_csv('continent.csv',index=False)"
   ]
  },
  {
   "cell_type": "markdown",
   "id": "04b3be33-9604-4a51-bff8-d2eec3d46724",
   "metadata": {},
   "source": [
    "- We need to change column name\n",
    "\n",
    "- We need to change save the file name as column name"
   ]
  },
  {
   "cell_type": "code",
   "execution_count": null,
   "id": "0848f0b3-24e5-4f81-8358-f48680dd3e8c",
   "metadata": {},
   "outputs": [],
   "source": [
    "for i in cat_columns:\n",
    "    cdf=visa_df[i].value_counts()\n",
    "    keys=cdf.keys()\n",
    "    values=cdf.values\n",
    "    cols=['Labels','Count']\n",
    "    df=pd.DataFrame(zip(keys,values),columns=cols)   \n",
    "    path=r\"C:\\Users\\User\\Documents\\naresh it\\EDA\\value_count\"\n",
    "    df.to_csv(f'{path}\\\\{i}.csv',index=False)"
   ]
  },
  {
   "cell_type": "markdown",
   "id": "e1c32b12-6f28-4983-bb41-a823ca912966",
   "metadata": {},
   "source": [
    "**Normalize**\n",
    "\n",
    "- Relative frequency table\n",
    "\n",
    "- Will give percentage of labels in the column"
   ]
  },
  {
   "cell_type": "code",
   "execution_count": null,
   "id": "cf9a53ca-cfec-4380-9457-c6564cdc3939",
   "metadata": {},
   "outputs": [],
   "source": [
    "cdf=visa_df['continent'].value_counts(normalize=True)\n",
    "round(cdf*100,2)"
   ]
  },
  {
   "cell_type": "markdown",
   "id": "3ad69167-28e5-4734-a6b1-846a479fb073",
   "metadata": {},
   "source": [
    "**Bar chart**\n",
    "\n",
    "- Bar chart is the graphical representation of frequency table\n",
    "\n",
    "- Bar graph is a plot between count and class\n",
    "\n",
    "- In order to plot bar chart we required  two columns\n",
    "\n",
    "        - Categorical column\n",
    "\n",
    "        - Numerical column\n",
    "\n",
    "- We already created a frequency table for continents.df\n",
    "\n",
    "    - Here we have cols = ['Continents','Number of applicants']\n",
    "\n",
    "    - categorical column is: **Continents**\n",
    "\n",
    "    - numerical column is:**Number of applicants**\n",
    "\n",
    "- Package: **matplotlib**"
   ]
  },
  {
   "cell_type": "code",
   "execution_count": null,
   "id": "259af7d7-1ca4-45ef-b370-e3a0daf92cae",
   "metadata": {},
   "outputs": [],
   "source": [
    "import matplotlib.pyplot as plt\n",
    "plt.bar('Continents',         # Cat column: x-axis\n",
    "        'Number of applicants',   # num column: Height  y-axis\n",
    "        data=continents_df)\n",
    "\n",
    "plt.title(\"Bar Chart\")      # Title of the graph\n",
    "plt.xlabel('Continents')    # x-axis name\n",
    "plt.ylabel('Number of applicants')    # y-axis name\n",
    "plt.savefig('Continents_bar_chart.jpg')\n",
    "plt.show()     # show will avoid the writeup and it should be at last\n"
   ]
  },
  {
   "cell_type": "code",
   "execution_count": null,
   "id": "194777e9-1c11-46b1-96d3-4b95c630682b",
   "metadata": {},
   "outputs": [],
   "source": [
    "import matplotlib.pyplot as plt\n",
    "plt.bar('education_of_employee',         # Cat column: x-axis\n",
    "        'Number of applicants',   # num column: Height  y-axis\n",
    "        data=education_of_employee_df)\n",
    "\n",
    "plt.title(\"Bar Chart\")      # Title of the graph\n",
    "plt.xlabel('education_of_employee')    # x-axis name\n",
    "plt.ylabel('Number of applicants')    # y-axis name\n",
    "plt.savefig('education_of_employee_bar_chart.jpg')\n",
    "plt.show() "
   ]
  },
  {
   "cell_type": "code",
   "execution_count": null,
   "id": "6f9132f2-6832-4a1e-ba94-aa2c2b223968",
   "metadata": {},
   "outputs": [],
   "source": [
    "import matplotlib.pyplot as plt\n",
    "plt.bar('has_job_experience',         # Cat column: x-axis\n",
    "        'Number of applicants',   # num column: Height  y-axis\n",
    "        data=has_job_experience_df)\n",
    "\n",
    "plt.title(\"Bar Chart\")      # Title of the graph\n",
    "plt.xlabel('has_job_experience')    # x-axis name\n",
    "plt.ylabel('Number of applicants')    # y-axis name\n",
    "plt.savefig('has_job_experience_bar_chart.jpg')\n",
    "plt.show() "
   ]
  },
  {
   "cell_type": "code",
   "execution_count": null,
   "id": "a6e8e5a9-fb6a-4de3-a192-c32fa7b14259",
   "metadata": {},
   "outputs": [],
   "source": [
    "import matplotlib.pyplot as plt\n",
    "plt.bar('requires_job_training',         # Cat column: x-axis\n",
    "        'Number of applicants',   # num column: Height  y-axis\n",
    "        data=requires_job_training_df)\n",
    "\n",
    "plt.title(\"Bar Chart\")      # Title of the graph\n",
    "plt.xlabel('requires_job_training')    # x-axis name\n",
    "plt.ylabel('Number of applicants')    # y-axis name\n",
    "plt.savefig('requires_job_training_bar_chart.jpg')\n",
    "plt.show() "
   ]
  },
  {
   "cell_type": "code",
   "execution_count": null,
   "id": "a5bcf80d-c576-4341-9882-5a51fc856768",
   "metadata": {},
   "outputs": [],
   "source": [
    "import matplotlib.pyplot as plt\n",
    "plt.bar('region_of_employment',         # Cat column: x-axis\n",
    "        'Number of applicants',   # num column: Height  y-axis\n",
    "        data=region_of_employment_df)\n",
    "\n",
    "plt.title(\"Bar Chart\")      # Title of the graph\n",
    "plt.xlabel('region_of_employment')    # x-axis name\n",
    "plt.ylabel('Number of applicants')    # y-axis name\n",
    "plt.savefig('region_of_employment_bar_chart.jpg')\n",
    "plt.show() "
   ]
  },
  {
   "cell_type": "code",
   "execution_count": null,
   "id": "63eb2535-f234-4650-becb-b9a8fb3cf87f",
   "metadata": {},
   "outputs": [],
   "source": [
    "import matplotlib.pyplot as plt\n",
    "plt.bar('unit_of_wage',         # Cat column: x-axis\n",
    "        'Number of applicants',   # num column: Height  y-axis\n",
    "        data=unit_of_wage_df)\n",
    "\n",
    "plt.title(\"Bar Chart\")      # Title of the graph\n",
    "plt.xlabel('unit_of_wage')    # x-axis name\n",
    "plt.ylabel('Number of applicants')    # y-axis name\n",
    "plt.savefig('unit_of_wage_bar_chart.jpg')\n",
    "plt.show() "
   ]
  },
  {
   "cell_type": "code",
   "execution_count": null,
   "id": "e5124758-7e50-40f4-bc3b-e51357a773ab",
   "metadata": {},
   "outputs": [],
   "source": [
    "import matplotlib.pyplot as plt\n",
    "plt.bar('full_time_position',         # Cat column: x-axis\n",
    "        'Number of applicants',   # num column: Height  y-axis\n",
    "        data=full_time_position_df)\n",
    "\n",
    "plt.title(\"Bar Chart\")      # Title of the graph\n",
    "plt.xlabel('full_time_position')    # x-axis name\n",
    "plt.ylabel('Number of applicants')    # y-axis name\n",
    "plt.savefig('full_time_position_bar_chart.jpg')\n",
    "plt.show() "
   ]
  },
  {
   "cell_type": "code",
   "execution_count": null,
   "id": "23034fb8-7612-4ac2-8f1a-e89df8df0f6b",
   "metadata": {},
   "outputs": [],
   "source": [
    "import matplotlib.pyplot as plt\n",
    "plt.bar('case_status',         # Cat column: x-axis\n",
    "        'Number of applicants',   # num column: Height  y-axis\n",
    "        data=case_status_df)\n",
    "\n",
    "plt.title(\"Bar Chart\")      # Title of the graph\n",
    "plt.xlabel('case_status')    # x-axis name\n",
    "plt.ylabel('Number of applicants')    # y-axis name\n",
    "plt.savefig('case_status_bar_chart.jpg')\n",
    "plt.show() "
   ]
  },
  {
   "cell_type": "markdown",
   "id": "e665c4a6-5582-49c5-a740-14abbcd31aae",
   "metadata": {},
   "source": [
    "- take a fresh notebook\n",
    "- read the visa dataset\n",
    "- Creat a case_status frequency table\n",
    "- Save that in your laptop\n",
    "\n",
    "- Take another notebook\n",
    "- Perform the bar plot on case_status dataframes\n",
    "\n",
    "\n",
    "########### Task 2 #################\n",
    "\n",
    "- Take a Fresh Notebook\n",
    "- read the visa dataset\n",
    "- Create a case_status frequncy table\n",
    "- perform the bar pot on case_status dataframe"
   ]
  },
  {
   "cell_type": "markdown",
   "id": "1d810c9e-2d02-427d-8abf-8d1caec971f2",
   "metadata": {},
   "source": [
    "**Bar chart using seaborn**\n",
    "\n",
    "- We can plot barcharts using with many packages\n",
    "\n",
    "- One package is matplotlib\n",
    "\n",
    "- Another package is seaborn\n",
    "\n",
    "- In matplotlib the method is **plt.bar**\n",
    "\n",
    "- In seaborn the method is **countplot**\n",
    "\n",
    "- In matplotlib,\n",
    "\n",
    "    - we will take the raw data\n",
    " \n",
    "    - we will create our frequency table i.e., dataframe\n",
    " \n",
    "    - we will pass the column1, column2 and dataframe name\n",
    " \n",
    "- In seaborn count plot\n",
    "\n",
    "    - It takes direct raw data\n",
    " \n",
    "    - we will provide direct column name\n",
    " \n",
    "    - we will provide dataframe name"
   ]
  },
  {
   "cell_type": "code",
   "execution_count": null,
   "id": "679ed6eb-6754-4749-a226-eb821291b3f8",
   "metadata": {},
   "outputs": [],
   "source": [
    "visa_df.columns"
   ]
  },
  {
   "cell_type": "code",
   "execution_count": null,
   "id": "bb98841d-1de8-4014-8541-40974aa9d1d9",
   "metadata": {},
   "outputs": [],
   "source": [
    "# Continent column ==== continent_df ==== plt.bar\n",
    "# Continent column directly ==== visadf\n",
    "import seaborn as sns\n",
    "plt.figure(figsize=(8,5))\n",
    "order_continents='Asia','Europe','North America','South America','Africa','Oceania'\n",
    "sns.countplot(data=visa_df,x='continent',order=order_continents)"
   ]
  },
  {
   "cell_type": "code",
   "execution_count": null,
   "id": "ca76f038-20f5-4cd0-8931-69c4fa7486fb",
   "metadata": {},
   "outputs": [],
   "source": [
    "import seaborn as sns\n",
    "plt.figure(figsize=(8,5))\n",
    "order_continents='Asia','Europe','North America','South America','Africa','Oceania'\n",
    "sns.countplot(data=visa_df,x='continent',order=order_continents)\n",
    "plt.title(\"Bar Chart\")      # Title of the graph\n",
    "plt.savefig('Continents_bar_chart_using_seaborn.jpg')\n",
    "plt.show() "
   ]
  },
  {
   "cell_type": "code",
   "execution_count": null,
   "id": "2c7f1fb8-d3de-4437-a9af-80ec6a47549a",
   "metadata": {},
   "outputs": [],
   "source": [
    "visa_df['continent'].value_counts().keys()"
   ]
  },
  {
   "cell_type": "code",
   "execution_count": null,
   "id": "59c84dcb-064c-4083-9faf-b08e19512a55",
   "metadata": {},
   "outputs": [],
   "source": [
    "visa_df['continent'].value_counts().values()"
   ]
  },
  {
   "cell_type": "markdown",
   "id": "627ea3cb-0040-4768-a9a0-0100889854ac",
   "metadata": {},
   "source": [
    "$task-3$\n",
    "\n",
    "**Using for loop plots the bar charts of all the cat columns**\n",
    "\n",
    "- We can use seaborn and matplotlib\n",
    "\n",
    "- Seaborn: Countplot requires only raw data, direct column name and main data \n",
    "\n",
    "- Matplotlib: Requires frequency table\n",
    "\n",
    "  - From raw data, will make value counts\n",
    "\n",
    "  - From value counts we are making keys and values seperately\n",
    "\n",
    "  - Then we are creating a dataframe\n",
    "\n",
    "- Start with seaborn\n",
    "\n",
    "  - Then we require cat columns names\n",
    "\n",
    "  - and main dataframe\n",
    "\n",
    "- Start with matplotlib\n",
    "\n",
    "  - We already created a  folder in our laptop: Value_Counts_df"
   ]
  },
  {
   "cell_type": "code",
   "execution_count": null,
   "id": "90d3f4ab-708e-4468-8afa-8f4a6edcfcc6",
   "metadata": {},
   "outputs": [],
   "source": [
    "# where you want to save \n",
    "# graphs_seaborn folder"
   ]
  },
  {
   "cell_type": "markdown",
   "id": "97e16c0f-fe13-4ee0-aa8a-5a0b4fa5cd2b",
   "metadata": {},
   "source": [
    "**How to create folder**"
   ]
  },
  {
   "cell_type": "code",
   "execution_count": 66,
   "id": "7163bb8d-1ed6-4d61-98f0-2c7e5f964e1d",
   "metadata": {},
   "outputs": [
    {
     "data": {
      "text/plain": [
       "'C:\\\\Users\\\\User\\\\Documents\\\\naresh it\\\\EDA'"
      ]
     },
     "execution_count": 66,
     "metadata": {},
     "output_type": "execute_result"
    }
   ],
   "source": [
    "import os\n",
    "os.getcwd()\n",
    "\n"
   ]
  },
  {
   "cell_type": "code",
   "execution_count": 65,
   "id": "b24e1985-6a5b-4647-90ee-181b2899110d",
   "metadata": {},
   "outputs": [
    {
     "ename": "SyntaxError",
     "evalue": "unexpected character after line continuation character (468270136.py, line 4)",
     "output_type": "error",
     "traceback": [
      "\u001b[1;36m  Cell \u001b[1;32mIn[65], line 4\u001b[1;36m\u001b[0m\n\u001b[1;33m    C:\\Users\\User\\Documents\\naresh it\\EDA\\graphs_seaborn\u001b[0m\n\u001b[1;37m       ^\u001b[0m\n\u001b[1;31mSyntaxError\u001b[0m\u001b[1;31m:\u001b[0m unexpected character after line continuation character\n"
     ]
    }
   ],
   "source": [
    "import os\n",
    "os.getcwd()\n",
    "\n",
    "C:\\Users\\User\\Documents\\naresh it\\EDA\\graphs_seaborn"
   ]
  },
  {
   "cell_type": "markdown",
   "id": "e7135c2b-e4c7-4bba-b43d-fcd1ce40ef6e",
   "metadata": {},
   "source": [
    "**os.makedirs()**\n",
    "\n",
    "- makedirs create a leaf directory\n",
    "\n",
    "- means it will take the current working directory and creates one extra folder\n",
    "\n",
    "- Here my python file in **EDA** folder\n",
    "\n",
    "- Now I want to create a new folder **graphs_seaborn**\n",
    "\n",
    "- Which is one step ahead of EDA folder: EDA/graphs_seaborn\n",
    "\n",
    "- Pass the full path inside the makedirs()\n",
    "\n",
    "- C:\\Users\\User\\Documents\\naresh it\\EDA\\graphs_seaborn "
   ]
  },
  {
   "cell_type": "code",
   "execution_count": null,
   "id": "cd81e1bc-0dd1-4207-a8f2-4d21e8ea2f29",
   "metadata": {},
   "outputs": [],
   "source": [
    "# Step-1:\n",
    "root_directory=os.getcwd()\n",
    "root_directory\n",
    "\n",
    "# Step-2:\n",
    "new_folder='graphs_seaborn'\n",
    "\n",
    "# Step-3:\n",
    "new_dir=os.path.join(root_directory,new_folder)\n",
    "new_dir\n",
    "\n",
    "# Step-4: Make a dir\n",
    "os.makedirs(new_dir)\n",
    "os.makedirs(r'C:\\Users\\User\\Documents\\naresh it\\EDA\\graphs_seaborn')"
   ]
  },
  {
   "cell_type": "code",
   "execution_count": 67,
   "id": "fb303a8e-8a4a-43aa-b900-53f56040b95c",
   "metadata": {},
   "outputs": [
    {
     "name": "stdout",
     "output_type": "stream",
     "text": [
      "[WinError 183] Cannot create a file when that file already exists: 'C:\\\\Users\\\\User\\\\Documents\\\\naresh it\\\\EDA\\\\graphs_seaborn'\n"
     ]
    }
   ],
   "source": [
    "try:\n",
    "    root_directory=os.getcwd()\n",
    "    new_folder='graphs_seaborn'\n",
    "    new_dir=os.path.join(root_directory,new_folder)\n",
    "    os.makedirs(new_dir)\n",
    "except Exception as e:\n",
    "    print(e)"
   ]
  },
  {
   "cell_type": "code",
   "execution_count": 68,
   "id": "50e69180-e6d6-4432-9e1a-b9c3533b2129",
   "metadata": {},
   "outputs": [
    {
     "data": {
      "image/png": "[encoded data removed]",
      "text/plain": [
       "<Figure size 800x500 with 1 Axes>"
      ]
     },
     "metadata": {},
     "output_type": "display_data"
    },
    {
     "data": {
      "image/png": "[encoded data removed]",
      "text/plain": [
       "<Figure size 800x500 with 1 Axes>"
      ]
     },
     "metadata": {},
     "output_type": "display_data"
    },
    {
     "data": {
      "image/png": "[encoded data removed]",
      "text/plain": [
       "<Figure size 800x500 with 1 Axes>"
      ]
     },
     "metadata": {},
     "output_type": "display_data"
    },
    {
     "data": {
      "image/png": "[encoded data removed]",
      "text/plain": [
       "<Figure size 800x500 with 1 Axes>"
      ]
     },
     "metadata": {},
     "output_type": "display_data"
    },
    {
     "data": {
      "image/png": "[encoded data removed]",
      "text/plain": [
       "<Figure size 800x500 with 1 Axes>"
      ]
     },
     "metadata": {},
     "output_type": "display_data"
    },
    {
     "data": {
      "image/png": "[encoded data removed]",
      "text/plain": [
       "<Figure size 800x500 with 1 Axes>"
      ]
     },
     "metadata": {},
     "output_type": "display_data"
    },
    {
     "data": {
      "image/png": "[encoded data removed]",
      "text/plain": [
       "<Figure size 800x500 with 1 Axes>"
      ]
     },
     "metadata": {},
     "output_type": "display_data"
    },
    {
     "data": {
      "image/png": "[encoded data removed]",
      "text/plain": [
       "<Figure size 800x500 with 1 Axes>"
      ]
     },
     "metadata": {},
     "output_type": "display_data"
    }
   ],
   "source": [
    "import seaborn as sns\n",
    "for i in cat_columns[1:]:\n",
    "    plt.figure(figsize=(8,5))\n",
    "    order_continents=visa_df[i].value_counts().keys()\n",
    "    sns.countplot(data=visa_df,x=i,order=order_continents)\n",
    "    plt.title(\"Bar Chart\")      # Title of the graph\n",
    "    plt.savefig(f'{new_dir}\\{i}_seaborn.jpg')\n",
    "    plt.show() "
   ]
  },
  {
   "cell_type": "code",
   "execution_count": 69,
   "id": "b6fbfd5c-0dcc-4b6f-9919-8e0b9a5261da",
   "metadata": {},
   "outputs": [
    {
     "data": {
      "text/plain": [
       "'C:\\\\Users\\\\User\\\\Documents\\\\naresh it\\\\EDA\\\\graphs_seaborn\\\\case_status.jpg'"
      ]
     },
     "execution_count": 69,
     "metadata": {},
     "output_type": "execute_result"
    }
   ],
   "source": [
    "#suppose if i save my file: graphs_seaborn\n",
    "#file path\n",
    "\n",
    "f'{new_dir}\\{i}.jpg'"
   ]
  },
  {
   "cell_type": "markdown",
   "id": "cbd0fffe-f347-4abe-8d92-278b17d7cd42",
   "metadata": {},
   "source": [
    "**Task-4**\n",
    "\n",
    "**Using Matplotlib**"
   ]
  },
  {
   "cell_type": "code",
   "execution_count": 70,
   "id": "47e8ca5e-a3e9-418e-919f-3dbe8d370307",
   "metadata": {},
   "outputs": [
    {
     "name": "stdout",
     "output_type": "stream",
     "text": [
      "[WinError 183] Cannot create a file when that file already exists: 'C:\\\\Users\\\\User\\\\Documents\\\\naresh it\\\\EDA\\\\graphs_matplotlib'\n"
     ]
    }
   ],
   "source": [
    "try:\n",
    "    root_directory=os.getcwd()\n",
    "    new_folder='graphs_matplotlib'\n",
    "    new_dir=os.path.join(root_directory,new_folder)\n",
    "    os.makedirs(new_dir)\n",
    "except Exception as e:\n",
    "    print(e)"
   ]
  },
  {
   "cell_type": "code",
   "execution_count": 71,
   "id": "e631c751-8df0-4b3a-bfa2-e4e3993b78a1",
   "metadata": {},
   "outputs": [
    {
     "data": {
      "text/plain": [
       "'C:\\\\Users\\\\User\\\\Documents\\\\naresh it\\\\EDA\\\\value_count'"
      ]
     },
     "execution_count": 71,
     "metadata": {},
     "output_type": "execute_result"
    }
   ],
   "source": [
    "root_directory=os.getcwd()\n",
    "new_folder='value_count'\n",
    "dir=os.path.join(root_directory,new_folder)\n",
    "dir"
   ]
  },
  {
   "cell_type": "code",
   "execution_count": 72,
   "id": "45d038b3-b946-446c-9634-af2c57c3a9d2",
   "metadata": {},
   "outputs": [
    {
     "data": {
      "text/plain": [
       "['case_id.csv',\n",
       " 'case_status.csv',\n",
       " 'continent.csv',\n",
       " 'education_of_employee.csv',\n",
       " 'full_time_position.csv',\n",
       " 'has_job_experience.csv',\n",
       " 'region_of_employment.csv',\n",
       " 'requires_job_training.csv',\n",
       " 'unit_of_wage.csv']"
      ]
     },
     "execution_count": 72,
     "metadata": {},
     "output_type": "execute_result"
    }
   ],
   "source": [
    "import os\n",
    "dfs=os.listdir(r\"C:\\Users\\User\\Documents\\naresh it\\EDA\\value_count\")\n",
    "dfs"
   ]
  },
  {
   "cell_type": "code",
   "execution_count": 73,
   "id": "da5e2983-0875-4bc7-a173-c30f6f1f0ab1",
   "metadata": {},
   "outputs": [
    {
     "data": {
      "text/plain": [
       "['case_id.csv',\n",
       " 'case_status.csv',\n",
       " 'continent.csv',\n",
       " 'education_of_employee.csv',\n",
       " 'full_time_position.csv',\n",
       " 'has_job_experience.csv',\n",
       " 'region_of_employment.csv',\n",
       " 'requires_job_training.csv',\n",
       " 'unit_of_wage.csv']"
      ]
     },
     "execution_count": 73,
     "metadata": {},
     "output_type": "execute_result"
    }
   ],
   "source": [
    "dfs=os.listdir(dir)\n",
    "dfs"
   ]
  },
  {
   "cell_type": "code",
   "execution_count": 75,
   "id": "8b2b5c00-5cde-4606-b0f1-4099a4e30816",
   "metadata": {},
   "outputs": [
    {
     "data": {
      "image/png": "[encoded data removed]",
      "text/plain": [
       "<Figure size 640x480 with 1 Axes>"
      ]
     },
     "metadata": {},
     "output_type": "display_data"
    },
    {
     "data": {
      "image/png": "[encoded data removed]",
      "text/plain": [
       "<Figure size 640x480 with 1 Axes>"
      ]
     },
     "metadata": {},
     "output_type": "display_data"
    },
    {
     "data": {
      "image/png": "[encoded data removed]",
      "text/plain": [
       "<Figure size 640x480 with 1 Axes>"
      ]
     },
     "metadata": {},
     "output_type": "display_data"
    },
    {
     "data": {
      "image/png": "[encoded data removed]",
      "text/plain": [
       "<Figure size 640x480 with 1 Axes>"
      ]
     },
     "metadata": {},
     "output_type": "display_data"
    },
    {
     "data": {
      "image/png": "[encoded data removed]",
      "text/plain": [
       "<Figure size 640x480 with 1 Axes>"
      ]
     },
     "metadata": {},
     "output_type": "display_data"
    },
    {
     "data": {
      "image/png": "[encoded data removed]",
      "text/plain": [
       "<Figure size 640x480 with 1 Axes>"
      ]
     },
     "metadata": {},
     "output_type": "display_data"
    },
    {
     "data": {
      "image/png": "[encoded data removed]",
      "text/plain": [
       "<Figure size 640x480 with 1 Axes>"
      ]
     },
     "metadata": {},
     "output_type": "display_data"
    },
    {
     "data": {
      "image/png": "[encoded data removed]",
      "text/plain": [
       "<Figure size 640x480 with 1 Axes>"
      ]
     },
     "metadata": {},
     "output_type": "display_data"
    },
    {
     "data": {
      "image/png": "[encoded data removed]",
      "text/plain": [
       "<Figure size 640x480 with 1 Axes>"
      ]
     },
     "metadata": {},
     "output_type": "display_data"
    }
   ],
   "source": [
    "import matplotlib.pyplot as plt\n",
    "for i in dfs:\n",
    "    df=pd.read_csv(i)\n",
    "    plt.bar('Labels',        # Cat column: x-axis\n",
    "            'Count',   # num column: Height  y-axis\n",
    "            data=df)\n",
    "    \n",
    "    plt.title(\"Bar Chart\")      # Title of the graph\n",
    "    plt.xlabel('Labels')    # x-axis name\n",
    "    plt.ylabel('Count')    # y-axis name\n",
    "    plt.savefig(f'{new_dir}\\{i}_matplotlib.jpg')\n",
    "    plt.show() "
   ]
  },
  {
   "cell_type": "code",
   "execution_count": 21,
   "id": "eb6a0c87-fa7f-44cb-baf5-c411d830bbac",
   "metadata": {},
   "outputs": [
    {
     "ename": "TypeError",
     "evalue": "unsupported operand type(s) for +: 'builtin_function_or_method' and 'str'",
     "output_type": "error",
     "traceback": [
      "\u001b[1;31m---------------------------------------------------------------------------\u001b[0m",
      "\u001b[1;31mTypeError\u001b[0m                                 Traceback (most recent call last)",
      "Cell \u001b[1;32mIn[21], line 2\u001b[0m\n\u001b[0;32m      1\u001b[0m i\u001b[38;5;241m=\u001b[39m\u001b[38;5;124m'\u001b[39m\u001b[38;5;124mcontinent.csv\u001b[39m\u001b[38;5;124m'\u001b[39m\n\u001b[1;32m----> 2\u001b[0m path\u001b[38;5;241m=\u001b[39m\u001b[38;5;28mdir\u001b[39m\u001b[38;5;241m+\u001b[39m\u001b[38;5;124m'\u001b[39m\u001b[38;5;130;01m\\\\\u001b[39;00m\u001b[38;5;124m'\u001b[39m\u001b[38;5;241m+\u001b[39mi\n\u001b[0;32m      3\u001b[0m df\u001b[38;5;241m=\u001b[39mpd\u001b[38;5;241m.\u001b[39mread_csv(path)\n\u001b[0;32m      4\u001b[0m plt\u001b[38;5;241m.\u001b[39mbar(\u001b[38;5;124m'\u001b[39m\u001b[38;5;124mLabels\u001b[39m\u001b[38;5;124m'\u001b[39m,\u001b[38;5;124m'\u001b[39m\u001b[38;5;124mCount\u001b[39m\u001b[38;5;124m'\u001b[39m,width\u001b[38;5;241m=\u001b[39m\u001b[38;5;241m0.5\u001b[39m,data\u001b[38;5;241m=\u001b[39mdf,)\n",
      "\u001b[1;31mTypeError\u001b[0m: unsupported operand type(s) for +: 'builtin_function_or_method' and 'str'"
     ]
    }
   ],
   "source": [
    "i='continent.csv'\n",
    "path=dir+'\\\\'+i\n",
    "df=pd.read_csv(path)\n",
    "plt.bar('Labels','Count',width=0.5,data=df,)"
   ]
  },
  {
   "cell_type": "markdown",
   "id": "38ae7633-fe39-4956-89a5-cc145fb98c5a",
   "metadata": {},
   "source": [
    "**Subplots**"
   ]
  },
  {
   "cell_type": "markdown",
   "id": "a7cadb70-620d-423b-8415-05a4fee23821",
   "metadata": {},
   "source": [
    "- If we have multiple plots when we apply for loop it is giving one by one\n",
    "\n",
    "- It is hard to see all the graphs\n",
    "\n",
    "- Subplots is a kind of a matrix representation\n",
    "\n",
    "- Suppose we have a 2x2 matrix means 4 values, means 4 plots we can plot \n",
    "\n",
    "- First plot position represents with: (2, 2, 1)\n",
    "\n",
    "- Second plot position represents with: (2, 2, 2)\n",
    "\n",
    "- Third plot position represents with: (2, 2, 3)\n",
    "\n",
    "- Fourth plot position represents with: (2, 2, 4)"
   ]
  },
  {
   "cell_type": "code",
   "execution_count": 22,
   "id": "c298842c-ddb9-4239-a2e4-8a300511e86f",
   "metadata": {},
   "outputs": [
    {
     "data": {
      "text/plain": [
       "<Axes: >"
      ]
     },
     "execution_count": 22,
     "metadata": {},
     "output_type": "execute_result"
    },
    {
     "data": {
      "image/png": "[encoded data removed]",
      "text/plain": [
       "<Figure size 640x480 with 4 Axes>"
      ]
     },
     "metadata": {},
     "output_type": "display_data"
    }
   ],
   "source": [
    "plt.subplot(2,2,1)\n",
    "plt.subplot(2,2,2)\n",
    "plt.subplot(2,2,3)\n",
    "plt.subplot(2,2,4)"
   ]
  },
  {
   "cell_type": "code",
   "execution_count": 23,
   "id": "309fadf3-767c-4e90-bd59-ce2d19df817d",
   "metadata": {},
   "outputs": [
    {
     "data": {
      "image/png": "[encoded data removed]",
      "text/plain": [
       "<Figure size 640x480 with 4 Axes>"
      ]
     },
     "metadata": {},
     "output_type": "display_data"
    }
   ],
   "source": [
    "for i in range(1,5):\n",
    "    plt.subplot(2,2,i)"
   ]
  },
  {
   "cell_type": "code",
   "execution_count": 26,
   "id": "f35392b6-214f-423c-b1e7-c2feb4fd8fbf",
   "metadata": {},
   "outputs": [
    {
     "data": {
      "image/png": "[encoded data removed]",
      "text/plain": [
       "<Figure size 640x480 with 9 Axes>"
      ]
     },
     "metadata": {},
     "output_type": "display_data"
    }
   ],
   "source": [
    "for i in range(1,10):\n",
    "    plt.subplot(3,3,i)"
   ]
  },
  {
   "cell_type": "code",
   "execution_count": 27,
   "id": "a0e30d9e-59fd-4666-8506-c95cf53897e8",
   "metadata": {},
   "outputs": [
    {
     "data": {
      "image/png": "[encoded data removed]",
      "text/plain": [
       "<Figure size 640x480 with 7 Axes>"
      ]
     },
     "metadata": {},
     "output_type": "display_data"
    }
   ],
   "source": [
    "for i in range(1,8):\n",
    "    plt.subplot(3,3,i)"
   ]
  },
  {
   "cell_type": "code",
   "execution_count": 30,
   "id": "ecfa5291-caa9-4acd-98b2-2202c4245724",
   "metadata": {},
   "outputs": [
    {
     "data": {
      "text/plain": [
       "<Axes: >"
      ]
     },
     "execution_count": 30,
     "metadata": {},
     "output_type": "execute_result"
    },
    {
     "data": {
      "image/png": "[encoded data removed]",
      "text/plain": [
       "<Figure size 640x480 with 2 Axes>"
      ]
     },
     "metadata": {},
     "output_type": "display_data"
    }
   ],
   "source": [
    "plt.subplot(1,2,1)\n",
    "plt.subplot(1,2,2)"
   ]
  },
  {
   "cell_type": "code",
   "execution_count": 32,
   "id": "f21bfc3b-d820-473a-86a6-b450cf0fe964",
   "metadata": {},
   "outputs": [
    {
     "data": {
      "text/plain": [
       "<Axes: >"
      ]
     },
     "execution_count": 32,
     "metadata": {},
     "output_type": "execute_result"
    },
    {
     "data": {
      "image/png": "[encoded data removed]",
      "text/plain": [
       "<Figure size 640x480 with 2 Axes>"
      ]
     },
     "metadata": {},
     "output_type": "display_data"
    }
   ],
   "source": [
    "plt.subplot(2,1,1)\n",
    "plt.subplot(2,1,2)"
   ]
  },
  {
   "cell_type": "code",
   "execution_count": null,
   "id": "dd15ba88-2d72-4c5f-9ac5-ad64ce1aed5a",
   "metadata": {},
   "outputs": [],
   "source": [
    "# Read the data again \n",
    "# take two columns\n",
    "# 1) Continent    2) Case status\n",
    "# Draw the seaborn individually"
   ]
  },
  {
   "cell_type": "code",
   "execution_count": 33,
   "id": "256b64f4-676e-4e32-b987-7de7a0fe0a8d",
   "metadata": {},
   "outputs": [
    {
     "data": {
      "text/html": [
       "<div>\n",
       "<style scoped>\n",
       "    .dataframe tbody tr th:only-of-type {\n",
       "        vertical-align: middle;\n",
       "    }\n",
       "\n",
       "    .dataframe tbody tr th {\n",
       "        vertical-align: top;\n",
       "    }\n",
       "\n",
       "    .dataframe thead th {\n",
       "        text-align: right;\n",
       "    }\n",
       "</style>\n",
       "<table border=\"1\" class=\"dataframe\">\n",
       "  <thead>\n",
       "    <tr style=\"text-align: right;\">\n",
       "      <th></th>\n",
       "      <th>case_id</th>\n",
       "      <th>continent</th>\n",
       "      <th>education_of_employee</th>\n",
       "      <th>has_job_experience</th>\n",
       "      <th>requires_job_training</th>\n",
       "      <th>no_of_employees</th>\n",
       "      <th>yr_of_estab</th>\n",
       "      <th>region_of_employment</th>\n",
       "      <th>prevailing_wage</th>\n",
       "      <th>unit_of_wage</th>\n",
       "      <th>full_time_position</th>\n",
       "      <th>case_status</th>\n",
       "    </tr>\n",
       "  </thead>\n",
       "  <tbody>\n",
       "    <tr>\n",
       "      <th>0</th>\n",
       "      <td>EZYV01</td>\n",
       "      <td>Asia</td>\n",
       "      <td>High School</td>\n",
       "      <td>N</td>\n",
       "      <td>N</td>\n",
       "      <td>14513</td>\n",
       "      <td>2007</td>\n",
       "      <td>West</td>\n",
       "      <td>592.2029</td>\n",
       "      <td>Hour</td>\n",
       "      <td>Y</td>\n",
       "      <td>Denied</td>\n",
       "    </tr>\n",
       "    <tr>\n",
       "      <th>1</th>\n",
       "      <td>EZYV02</td>\n",
       "      <td>Asia</td>\n",
       "      <td>Master's</td>\n",
       "      <td>Y</td>\n",
       "      <td>N</td>\n",
       "      <td>2412</td>\n",
       "      <td>2002</td>\n",
       "      <td>Northeast</td>\n",
       "      <td>83425.6500</td>\n",
       "      <td>Year</td>\n",
       "      <td>Y</td>\n",
       "      <td>Certified</td>\n",
       "    </tr>\n",
       "    <tr>\n",
       "      <th>2</th>\n",
       "      <td>EZYV03</td>\n",
       "      <td>Asia</td>\n",
       "      <td>Bachelor's</td>\n",
       "      <td>N</td>\n",
       "      <td>Y</td>\n",
       "      <td>44444</td>\n",
       "      <td>2008</td>\n",
       "      <td>West</td>\n",
       "      <td>122996.8600</td>\n",
       "      <td>Year</td>\n",
       "      <td>Y</td>\n",
       "      <td>Denied</td>\n",
       "    </tr>\n",
       "    <tr>\n",
       "      <th>3</th>\n",
       "      <td>EZYV04</td>\n",
       "      <td>Asia</td>\n",
       "      <td>Bachelor's</td>\n",
       "      <td>N</td>\n",
       "      <td>N</td>\n",
       "      <td>98</td>\n",
       "      <td>1897</td>\n",
       "      <td>West</td>\n",
       "      <td>83434.0300</td>\n",
       "      <td>Year</td>\n",
       "      <td>Y</td>\n",
       "      <td>Denied</td>\n",
       "    </tr>\n",
       "    <tr>\n",
       "      <th>4</th>\n",
       "      <td>EZYV05</td>\n",
       "      <td>Africa</td>\n",
       "      <td>Master's</td>\n",
       "      <td>Y</td>\n",
       "      <td>N</td>\n",
       "      <td>1082</td>\n",
       "      <td>2005</td>\n",
       "      <td>South</td>\n",
       "      <td>149907.3900</td>\n",
       "      <td>Year</td>\n",
       "      <td>Y</td>\n",
       "      <td>Certified</td>\n",
       "    </tr>\n",
       "  </tbody>\n",
       "</table>\n",
       "</div>"
      ],
      "text/plain": [
       "  case_id continent education_of_employee has_job_experience  \\\n",
       "0  EZYV01      Asia           High School                  N   \n",
       "1  EZYV02      Asia              Master's                  Y   \n",
       "2  EZYV03      Asia            Bachelor's                  N   \n",
       "3  EZYV04      Asia            Bachelor's                  N   \n",
       "4  EZYV05    Africa              Master's                  Y   \n",
       "\n",
       "  requires_job_training  no_of_employees  yr_of_estab region_of_employment  \\\n",
       "0                     N            14513         2007                 West   \n",
       "1                     N             2412         2002            Northeast   \n",
       "2                     Y            44444         2008                 West   \n",
       "3                     N               98         1897                 West   \n",
       "4                     N             1082         2005                South   \n",
       "\n",
       "   prevailing_wage unit_of_wage full_time_position case_status  \n",
       "0         592.2029         Hour                  Y      Denied  \n",
       "1       83425.6500         Year                  Y   Certified  \n",
       "2      122996.8600         Year                  Y      Denied  \n",
       "3       83434.0300         Year                  Y      Denied  \n",
       "4      149907.3900         Year                  Y   Certified  "
      ]
     },
     "execution_count": 33,
     "metadata": {},
     "output_type": "execute_result"
    }
   ],
   "source": [
    "visa_df=pd.read_csv(\"Visadataset.csv\")\n",
    "visa_df.head()"
   ]
  },
  {
   "cell_type": "code",
   "execution_count": 34,
   "id": "7c9bf898-a3f7-415a-b27a-307f444b646a",
   "metadata": {},
   "outputs": [
    {
     "data": {
      "text/plain": [
       "Index(['case_id', 'continent', 'education_of_employee', 'has_job_experience',\n",
       "       'requires_job_training', 'no_of_employees', 'yr_of_estab',\n",
       "       'region_of_employment', 'prevailing_wage', 'unit_of_wage',\n",
       "       'full_time_position', 'case_status'],\n",
       "      dtype='object')"
      ]
     },
     "execution_count": 34,
     "metadata": {},
     "output_type": "execute_result"
    }
   ],
   "source": [
    "visa_df.columns"
   ]
  },
  {
   "cell_type": "markdown",
   "id": "7f5118f9-c430-4b71-abe2-fa207461d2fc",
   "metadata": {},
   "source": [
    "**Task-1**"
   ]
  },
  {
   "cell_type": "code",
   "execution_count": 37,
   "id": "5437e1eb-2a1c-4069-affb-6fbc1b4b5bda",
   "metadata": {},
   "outputs": [
    {
     "data": {
      "text/plain": [
       "<Axes: xlabel='case_status', ylabel='count'>"
      ]
     },
     "execution_count": 37,
     "metadata": {},
     "output_type": "execute_result"
    },
    {
     "data": {
      "image/png": "[encoded data removed]",
      "text/plain": [
       "<Figure size 1000x300 with 2 Axes>"
      ]
     },
     "metadata": {},
     "output_type": "display_data"
    }
   ],
   "source": [
    "plt.figure(figsize=(10,3))\n",
    "plt.subplot(1,2,1)\n",
    "sns.countplot(x='continent',data=visa_df)\n",
    "plt.subplot(1,2,2)\n",
    "sns.countplot(x='case_status',data=visa_df)"
   ]
  },
  {
   "cell_type": "markdown",
   "id": "d3f78a8a-7f37-47c4-a1c8-e03f646b8f34",
   "metadata": {},
   "source": [
    "**Task-2**\n",
    "\n",
    "- plots the 4 plots\n",
    "\n",
    "- continent, has_job_experience, requires_job_training, case_status"
   ]
  },
  {
   "cell_type": "code",
   "execution_count": 40,
   "id": "be473506-6713-493f-a41a-e8cc636cea23",
   "metadata": {},
   "outputs": [
    {
     "data": {
      "text/plain": [
       "Text(0.5, 1.0, 'case_status_bar_chart')"
      ]
     },
     "execution_count": 40,
     "metadata": {},
     "output_type": "execute_result"
    },
    {
     "data": {
      "image/png": "[encoded data removed]",
      "text/plain": [
       "<Figure size 1400x800 with 4 Axes>"
      ]
     },
     "metadata": {},
     "output_type": "display_data"
    }
   ],
   "source": [
    "plt.figure(figsize=(14,8))\n",
    "######################################################\n",
    "plt.subplot(2,2,1)\n",
    "sns.countplot(x='continent',data=visa_df)\n",
    "plt.title('continent_bar_chart')\n",
    "#######################################################\n",
    "plt.subplot(2,2,2)\n",
    "sns.countplot(x='has_job_experience',data=visa_df)\n",
    "plt.title('job_experience_bar_chart')\n",
    "#######################################################\n",
    "plt.subplot(2,2,3)\n",
    "sns.countplot(x='requires_job_training',data=visa_df)\n",
    "plt.title('job_training_bar_chart')\n",
    "##########################################################\n",
    "plt.subplot(2,2,4)\n",
    "sns.countplot(x='case_status',data=visa_df)\n",
    "plt.title('case_status_bar_chart')"
   ]
  },
  {
   "cell_type": "markdown",
   "id": "173dd644-4501-4c31-9ca3-f9b174211e63",
   "metadata": {},
   "source": [
    "**Task-3**\n",
    "\n",
    "- Take cat columns, slice from index 1, avoid the case_id\n",
    "\n",
    "- so we have 8 plots so the grid is 3x3\n",
    "\n",
    "- for loop should iterate length of cat_cols[1:]"
   ]
  },
  {
   "cell_type": "code",
   "execution_count": 41,
   "id": "c5b34898-f2c5-451e-b9cc-e0662f7e8417",
   "metadata": {},
   "outputs": [
    {
     "data": {
      "text/plain": [
       "['continent',\n",
       " 'education_of_employee',\n",
       " 'has_job_experience',\n",
       " 'requires_job_training',\n",
       " 'region_of_employment',\n",
       " 'unit_of_wage',\n",
       " 'full_time_position',\n",
       " 'case_status']"
      ]
     },
     "execution_count": 41,
     "metadata": {},
     "output_type": "execute_result"
    }
   ],
   "source": [
    "cat_columns[1:]"
   ]
  },
  {
   "cell_type": "code",
   "execution_count": 43,
   "id": "89c60657-a6b7-4a19-ad41-1c58085fb1b5",
   "metadata": {},
   "outputs": [
    {
     "data": {
      "text/plain": [
       "['continent',\n",
       " 'education_of_employee',\n",
       " 'has_job_experience',\n",
       " 'requires_job_training',\n",
       " 'region_of_employment',\n",
       " 'unit_of_wage',\n",
       " 'full_time_position',\n",
       " 'case_status']"
      ]
     },
     "execution_count": 43,
     "metadata": {},
     "output_type": "execute_result"
    }
   ],
   "source": [
    "cat_columns[1:]"
   ]
  },
  {
   "cell_type": "code",
   "execution_count": null,
   "id": "45f828f0-4876-454b-9600-12a9877fcc28",
   "metadata": {},
   "outputs": [],
   "source": [
    "# subplots (3,3,0) or (3,3,1) = (3,3,1)"
   ]
  },
  {
   "cell_type": "code",
   "execution_count": 45,
   "id": "1d4cfb9a-7b98-4f25-8cf0-5e02ea73c7a2",
   "metadata": {},
   "outputs": [
    {
     "data": {
      "image/png": "[encoded data removed]",
      "text/plain": [
       "<Figure size 1600x1400 with 8 Axes>"
      ]
     },
     "metadata": {},
     "output_type": "display_data"
    }
   ],
   "source": [
    "cols=cat_columns[1:]\n",
    "plt.figure(figsize=(16,14))\n",
    "for i in range(len(cols)):\n",
    "    plt.subplot(3,3,i+1)\n",
    "    sns.countplot(x=cols[i],data=visa_df)"
   ]
  },
  {
   "cell_type": "markdown",
   "id": "f7e67950-5522-4b93-8283-4c1f773d2355",
   "metadata": {},
   "source": [
    "**Method-3**"
   ]
  },
  {
   "cell_type": "markdown",
   "id": "9b4f9b6a-1680-4178-9798-8e5b7d359e3d",
   "metadata": {},
   "source": [
    "# Whenever open the file do below these two things\n",
    "\n",
    "- import packages\n",
    "\n",
    "- Read the data\n",
    "\n",
    "- make categorical and numerical data analysis"
   ]
  },
  {
   "cell_type": "code",
   "execution_count": 1,
   "id": "3e9e3b7a-2c70-47b6-8f16-b14b21984154",
   "metadata": {},
   "outputs": [],
   "source": [
    "import pandas as pd\n",
    "import numpy as np\n",
    "import matplotlib.pyplot as plt\n",
    "import seaborn as sns"
   ]
  },
  {
   "cell_type": "code",
   "execution_count": 2,
   "id": "3475b1a7-c1ff-4e75-904e-385fb8aed406",
   "metadata": {},
   "outputs": [
    {
     "data": {
      "text/html": [
       "<div>\n",
       "<style scoped>\n",
       "    .dataframe tbody tr th:only-of-type {\n",
       "        vertical-align: middle;\n",
       "    }\n",
       "\n",
       "    .dataframe tbody tr th {\n",
       "        vertical-align: top;\n",
       "    }\n",
       "\n",
       "    .dataframe thead th {\n",
       "        text-align: right;\n",
       "    }\n",
       "</style>\n",
       "<table border=\"1\" class=\"dataframe\">\n",
       "  <thead>\n",
       "    <tr style=\"text-align: right;\">\n",
       "      <th></th>\n",
       "      <th>case_id</th>\n",
       "      <th>continent</th>\n",
       "      <th>education_of_employee</th>\n",
       "      <th>has_job_experience</th>\n",
       "      <th>requires_job_training</th>\n",
       "      <th>no_of_employees</th>\n",
       "      <th>yr_of_estab</th>\n",
       "      <th>region_of_employment</th>\n",
       "      <th>prevailing_wage</th>\n",
       "      <th>unit_of_wage</th>\n",
       "      <th>full_time_position</th>\n",
       "      <th>case_status</th>\n",
       "    </tr>\n",
       "  </thead>\n",
       "  <tbody>\n",
       "    <tr>\n",
       "      <th>0</th>\n",
       "      <td>EZYV01</td>\n",
       "      <td>Asia</td>\n",
       "      <td>High School</td>\n",
       "      <td>N</td>\n",
       "      <td>N</td>\n",
       "      <td>14513</td>\n",
       "      <td>2007</td>\n",
       "      <td>West</td>\n",
       "      <td>592.2029</td>\n",
       "      <td>Hour</td>\n",
       "      <td>Y</td>\n",
       "      <td>Denied</td>\n",
       "    </tr>\n",
       "    <tr>\n",
       "      <th>1</th>\n",
       "      <td>EZYV02</td>\n",
       "      <td>Asia</td>\n",
       "      <td>Master's</td>\n",
       "      <td>Y</td>\n",
       "      <td>N</td>\n",
       "      <td>2412</td>\n",
       "      <td>2002</td>\n",
       "      <td>Northeast</td>\n",
       "      <td>83425.6500</td>\n",
       "      <td>Year</td>\n",
       "      <td>Y</td>\n",
       "      <td>Certified</td>\n",
       "    </tr>\n",
       "    <tr>\n",
       "      <th>2</th>\n",
       "      <td>EZYV03</td>\n",
       "      <td>Asia</td>\n",
       "      <td>Bachelor's</td>\n",
       "      <td>N</td>\n",
       "      <td>Y</td>\n",
       "      <td>44444</td>\n",
       "      <td>2008</td>\n",
       "      <td>West</td>\n",
       "      <td>122996.8600</td>\n",
       "      <td>Year</td>\n",
       "      <td>Y</td>\n",
       "      <td>Denied</td>\n",
       "    </tr>\n",
       "    <tr>\n",
       "      <th>3</th>\n",
       "      <td>EZYV04</td>\n",
       "      <td>Asia</td>\n",
       "      <td>Bachelor's</td>\n",
       "      <td>N</td>\n",
       "      <td>N</td>\n",
       "      <td>98</td>\n",
       "      <td>1897</td>\n",
       "      <td>West</td>\n",
       "      <td>83434.0300</td>\n",
       "      <td>Year</td>\n",
       "      <td>Y</td>\n",
       "      <td>Denied</td>\n",
       "    </tr>\n",
       "    <tr>\n",
       "      <th>4</th>\n",
       "      <td>EZYV05</td>\n",
       "      <td>Africa</td>\n",
       "      <td>Master's</td>\n",
       "      <td>Y</td>\n",
       "      <td>N</td>\n",
       "      <td>1082</td>\n",
       "      <td>2005</td>\n",
       "      <td>South</td>\n",
       "      <td>149907.3900</td>\n",
       "      <td>Year</td>\n",
       "      <td>Y</td>\n",
       "      <td>Certified</td>\n",
       "    </tr>\n",
       "  </tbody>\n",
       "</table>\n",
       "</div>"
      ],
      "text/plain": [
       "  case_id continent education_of_employee has_job_experience  \\\n",
       "0  EZYV01      Asia           High School                  N   \n",
       "1  EZYV02      Asia              Master's                  Y   \n",
       "2  EZYV03      Asia            Bachelor's                  N   \n",
       "3  EZYV04      Asia            Bachelor's                  N   \n",
       "4  EZYV05    Africa              Master's                  Y   \n",
       "\n",
       "  requires_job_training  no_of_employees  yr_of_estab region_of_employment  \\\n",
       "0                     N            14513         2007                 West   \n",
       "1                     N             2412         2002            Northeast   \n",
       "2                     Y            44444         2008                 West   \n",
       "3                     N               98         1897                 West   \n",
       "4                     N             1082         2005                South   \n",
       "\n",
       "   prevailing_wage unit_of_wage full_time_position case_status  \n",
       "0         592.2029         Hour                  Y      Denied  \n",
       "1       83425.6500         Year                  Y   Certified  \n",
       "2      122996.8600         Year                  Y      Denied  \n",
       "3       83434.0300         Year                  Y      Denied  \n",
       "4      149907.3900         Year                  Y   Certified  "
      ]
     },
     "execution_count": 2,
     "metadata": {},
     "output_type": "execute_result"
    }
   ],
   "source": [
    "visa_df=pd.read_csv(\"Visadataset.csv\")\n",
    "visa_df.head()"
   ]
  },
  {
   "cell_type": "code",
   "execution_count": 5,
   "id": "9e98604b-92d9-430f-800b-b1d3d88da3ae",
   "metadata": {},
   "outputs": [],
   "source": [
    "types=dict(visa_df.dtypes)\n",
    "cat_columns=[key for key, value in types.items() if value=='object']\n",
    "num_columns=[key for key, value in types.items() if value!='object']"
   ]
  },
  {
   "cell_type": "code",
   "execution_count": 9,
   "id": "57e92d56-58bd-49a6-8cb5-613accceadcd",
   "metadata": {},
   "outputs": [
    {
     "data": {
      "image/png": "[encoded data removed]",
      "text/plain": [
       "<Figure size 640x480 with 1 Axes>"
      ]
     },
     "metadata": {},
     "output_type": "display_data"
    }
   ],
   "source": [
    "## Apply the value counts for categorical columns\n",
    "## Continent\n",
    "## Save that value counts in a variable\n",
    "## new_variable=variable.plot(kind='bar')\n",
    "## new_variable.bar_label(new_variable.containers[0])\n",
    "## plt.show()\n",
    "\n",
    "\n",
    "cds = visa_df['continent'].value_counts()\n",
    "ax = cds.plot(kind='bar')\n",
    "ax.bar_label(ax.containers[0])\n",
    "plt.show()"
   ]
  },
  {
   "cell_type": "code",
   "execution_count": null,
   "id": "fcd66955-4f95-4974-822d-96fd9123f69a",
   "metadata": {},
   "outputs": [],
   "source": [
    "# All three plots\n",
    "\n",
    "import seaborn as sns\n",
    "plt.figure(figsize=(8,5))\n",
    "order_continents='Asia','Europe','North America','South America','Africa','Oceania'\n",
    "sns.countplot(data=visa_df,x='continent',order=order_continents)\n",
    "plt.title(\"Bar Chart\")      # Title of the graph\n",
    "plt.savefig('Continents_bar_chart_using_seaborn.jpg')\n",
    "plt.show() \n",
    "#############################################################################\n",
    "import matplotlib.pyplot as plt\n",
    "plt.bar('Continents',         # Cat column: x-axis\n",
    "        'Number of applicants',   # num column: Height  y-axis\n",
    "        data=continents_df)\n",
    "\n",
    "plt.title(\"Bar Chart\")      # Title of the graph\n",
    "plt.xlabel('Continents')    # x-axis name\n",
    "plt.ylabel('Number of applicants')    # y-axis name\n",
    "plt.savefig('Continents_bar_chart.jpg')\n",
    "plt.show()     # show will avoid the writeup and it should be at last\n",
    "#########################################################################\n",
    "cds = visa_df['continent'].value_counts()\n",
    "ax = cds.plot(kind='bar')\n",
    "ax.bar_label(ax.containers[0])\n",
    "plt.show()"
   ]
  },
  {
   "cell_type": "markdown",
   "id": "20bbdc45-677c-4ae2-8e00-027a777d822b",
   "metadata": {},
   "source": [
    "**Pie chart**"
   ]
  },
  {
   "cell_type": "markdown",
   "id": "6587a2b5-d01b-4436-98b0-5a8847700ffd",
   "metadata": {},
   "source": [
    "- Pie chart is a 360 degree view\n",
    "\n",
    "- It is under matplotlib package\n",
    "\n",
    "- It will takes keys and values\n",
    "\n",
    "- that we will get for value counts"
   ]
  },
  {
   "cell_type": "code",
   "execution_count": 16,
   "id": "b24ac674-4e03-463f-a384-a0f6dfd6117f",
   "metadata": {},
   "outputs": [
    {
     "data": {
      "image/png": "[encoded data removed]",
      "text/plain": [
       "<Figure size 640x480 with 1 Axes>"
      ]
     },
     "metadata": {},
     "output_type": "display_data"
    }
   ],
   "source": [
    "# Step-1: get keys from continent value counts\n",
    "# Step-2: get values from continent value counts\n",
    "# Step-3: plt.pie verify the arguments\n",
    "#         which argument takes values and keys\n",
    "\n",
    "keys=visa_df['continent'].value_counts().keys()\n",
    "values=visa_df['continent'].value_counts().values\n",
    "plt.pie(values,explode=[0.1,0.1,0.1,0.1,0.1,0.1],labels=keys,autopct=\"%0.2f%%\",radius=1,startangle=180)\n",
    "plt.show()"
   ]
  },
  {
   "cell_type": "code",
   "execution_count": null,
   "id": "ece15ef7-8eb9-450b-aa4e-2fa15fdd2d7f",
   "metadata": {},
   "outputs": [],
   "source": []
  }
 ],
 "metadata": {
  "kernelspec": {
   "display_name": "Python 3 (ipykernel)",
   "language": "python",
   "name": "python3"
  },
  "language_info": {
   "codemirror_mode": {
    "name": "ipython",
    "version": 3
   },
   "file_extension": ".py",
   "mimetype": "text/x-python",
   "name": "python",
   "nbconvert_exporter": "python",
   "pygments_lexer": "ipython3",
   "version": "3.11.7"
  }
 },
 "nbformat": 4,
 "nbformat_minor": 5
}
