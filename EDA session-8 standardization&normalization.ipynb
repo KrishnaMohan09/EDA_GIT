{
 "cells": [
  {
   "cell_type": "code",
   "execution_count": 1,
   "id": "3601a432-fc75-4efa-860c-061b004adabe",
   "metadata": {},
   "outputs": [],
   "source": [
    "import numpy as np\n",
    "import pandas as pd\n",
    "import matplotlib.pyplot as plt\n",
    "import seaborn as sns\n",
    "\n",
    "visa_df=pd.read_csv(\"Visadataset.csv\")\n",
    "visa_df.head()\n",
    "\n",
    "cat_columns=visa_df.select_dtypes(include='object').columns\n",
    "num_columns=visa_df.select_dtypes(exclude='object').columns"
   ]
  },
  {
   "cell_type": "markdown",
   "id": "194fe75d-c4ba-4a8e-873f-838b4d2edea4",
   "metadata": {},
   "source": [
    "# zscore\n",
    "\n",
    "**z=x-u/sigma**"
   ]
  },
  {
   "cell_type": "code",
   "execution_count": 5,
   "id": "516ce401-3f06-4a13-a259-aa15486cd0af",
   "metadata": {},
   "outputs": [
    {
     "data": {
      "text/plain": [
       "0       -1.398510\n",
       "1        0.169832\n",
       "2        0.919060\n",
       "3        0.169991\n",
       "4        1.428576\n",
       "           ...   \n",
       "25475    0.049923\n",
       "25476    3.876083\n",
       "25477    1.360253\n",
       "25478    0.221504\n",
       "25479   -0.067762\n",
       "Name: prevailing_wage, Length: 25480, dtype: float64"
      ]
     },
     "execution_count": 5,
     "metadata": {},
     "output_type": "execute_result"
    }
   ],
   "source": [
    "# step-1: read prevailing wage\n",
    "# step-2: calculate mean of pwage\n",
    "# step-3: calculate std of pwage\n",
    "# step-4: Nr: step-1 - step-2\n",
    "# step-5: step4/step3\n",
    "\n",
    "wage_data=visa_df['prevailing_wage']\n",
    "wage_mean=visa_df['prevailing_wage'].mean()\n",
    "wage_std=visa_df['prevailing_wage'].std()\n",
    "nr=wage_data-wage_mean\n",
    "z_scaled_wage_data=nr/wage_std\n",
    "z_scaled_wage_data"
   ]
  },
  {
   "cell_type": "code",
   "execution_count": 35,
   "id": "b2bf594c-df84-48dd-85f6-d23645d01817",
   "metadata": {},
   "outputs": [],
   "source": [
    "wage_data=visa_df['prevailing_wage']\n",
    "wage_mean=visa_df['prevailing_wage'].mean()\n",
    "wage_std=visa_df['prevailing_wage'].std()\n",
    "nr=wage_data-wage_mean\n",
    "z_scaled_wage_data=nr/wage_std\n",
    "z_scaled_wage_data\n",
    "visa_df['z_scaled_wage_data']=z_scaled_wage_data"
   ]
  },
  {
   "cell_type": "code",
   "execution_count": 36,
   "id": "1b2839a5-d518-49b6-a146-ed329eda9bd2",
   "metadata": {},
   "outputs": [
    {
     "data": {
      "text/html": [
       "<div>\n",
       "<style scoped>\n",
       "    .dataframe tbody tr th:only-of-type {\n",
       "        vertical-align: middle;\n",
       "    }\n",
       "\n",
       "    .dataframe tbody tr th {\n",
       "        vertical-align: top;\n",
       "    }\n",
       "\n",
       "    .dataframe thead th {\n",
       "        text-align: right;\n",
       "    }\n",
       "</style>\n",
       "<table border=\"1\" class=\"dataframe\">\n",
       "  <thead>\n",
       "    <tr style=\"text-align: right;\">\n",
       "      <th></th>\n",
       "      <th>prevailing_wage</th>\n",
       "      <th>z_scaled_wage_data</th>\n",
       "    </tr>\n",
       "  </thead>\n",
       "  <tbody>\n",
       "    <tr>\n",
       "      <th>0</th>\n",
       "      <td>592.2029</td>\n",
       "      <td>-1.398510</td>\n",
       "    </tr>\n",
       "    <tr>\n",
       "      <th>1</th>\n",
       "      <td>83425.6500</td>\n",
       "      <td>0.169832</td>\n",
       "    </tr>\n",
       "    <tr>\n",
       "      <th>2</th>\n",
       "      <td>122996.8600</td>\n",
       "      <td>0.919060</td>\n",
       "    </tr>\n",
       "    <tr>\n",
       "      <th>3</th>\n",
       "      <td>83434.0300</td>\n",
       "      <td>0.169991</td>\n",
       "    </tr>\n",
       "    <tr>\n",
       "      <th>4</th>\n",
       "      <td>149907.3900</td>\n",
       "      <td>1.428576</td>\n",
       "    </tr>\n",
       "    <tr>\n",
       "      <th>...</th>\n",
       "      <td>...</td>\n",
       "      <td>...</td>\n",
       "    </tr>\n",
       "    <tr>\n",
       "      <th>25475</th>\n",
       "      <td>77092.5700</td>\n",
       "      <td>0.049923</td>\n",
       "    </tr>\n",
       "    <tr>\n",
       "      <th>25476</th>\n",
       "      <td>279174.7900</td>\n",
       "      <td>3.876083</td>\n",
       "    </tr>\n",
       "    <tr>\n",
       "      <th>25477</th>\n",
       "      <td>146298.8500</td>\n",
       "      <td>1.360253</td>\n",
       "    </tr>\n",
       "    <tr>\n",
       "      <th>25478</th>\n",
       "      <td>86154.7700</td>\n",
       "      <td>0.221504</td>\n",
       "    </tr>\n",
       "    <tr>\n",
       "      <th>25479</th>\n",
       "      <td>70876.9100</td>\n",
       "      <td>-0.067762</td>\n",
       "    </tr>\n",
       "  </tbody>\n",
       "</table>\n",
       "<p>25480 rows × 2 columns</p>\n",
       "</div>"
      ],
      "text/plain": [
       "       prevailing_wage  z_scaled_wage_data\n",
       "0             592.2029           -1.398510\n",
       "1           83425.6500            0.169832\n",
       "2          122996.8600            0.919060\n",
       "3           83434.0300            0.169991\n",
       "4          149907.3900            1.428576\n",
       "...                ...                 ...\n",
       "25475       77092.5700            0.049923\n",
       "25476      279174.7900            3.876083\n",
       "25477      146298.8500            1.360253\n",
       "25478       86154.7700            0.221504\n",
       "25479       70876.9100           -0.067762\n",
       "\n",
       "[25480 rows x 2 columns]"
      ]
     },
     "execution_count": 36,
     "metadata": {},
     "output_type": "execute_result"
    }
   ],
   "source": [
    "visa_df[['prevailing_wage','z_scaled_wage_data']]"
   ]
  },
  {
   "cell_type": "markdown",
   "id": "298222bb-dffe-4e3b-906d-ad48420b845e",
   "metadata": {},
   "source": [
    "**x scaled = (x-xmin)/(xmax-xmin)**"
   ]
  },
  {
   "cell_type": "code",
   "execution_count": 11,
   "id": "be50d36c-2fc6-495d-a4a0-7b415724832b",
   "metadata": {},
   "outputs": [],
   "source": [
    "wage_data=visa_df['prevailing_wage']\n",
    "wage_min=visa_df['prevailing_wage'].min()\n",
    "wage_max=visa_df['prevailing_wage'].max()\n",
    "nr=wage_data-wage_min\n",
    "dr=wage_max-wage_min\n",
    "x_scaled_wage_data=nr/dr\n",
    "x_scaled_wage_data\n",
    "visa_df['x_scaled_wage_data']=x_scaled_wage_data"
   ]
  },
  {
   "cell_type": "code",
   "execution_count": 12,
   "id": "0a21e3bc-4fee-41b5-9a5c-917e39dd3c19",
   "metadata": {},
   "outputs": [
    {
     "data": {
      "text/html": [
       "<div>\n",
       "<style scoped>\n",
       "    .dataframe tbody tr th:only-of-type {\n",
       "        vertical-align: middle;\n",
       "    }\n",
       "\n",
       "    .dataframe tbody tr th {\n",
       "        vertical-align: top;\n",
       "    }\n",
       "\n",
       "    .dataframe thead th {\n",
       "        text-align: right;\n",
       "    }\n",
       "</style>\n",
       "<table border=\"1\" class=\"dataframe\">\n",
       "  <thead>\n",
       "    <tr style=\"text-align: right;\">\n",
       "      <th></th>\n",
       "      <th>prevailing_wage</th>\n",
       "      <th>x_scaled_wage_data</th>\n",
       "    </tr>\n",
       "  </thead>\n",
       "  <tbody>\n",
       "    <tr>\n",
       "      <th>0</th>\n",
       "      <td>592.2029</td>\n",
       "      <td>0.001849</td>\n",
       "    </tr>\n",
       "    <tr>\n",
       "      <th>1</th>\n",
       "      <td>83425.6500</td>\n",
       "      <td>0.261345</td>\n",
       "    </tr>\n",
       "    <tr>\n",
       "      <th>2</th>\n",
       "      <td>122996.8600</td>\n",
       "      <td>0.385312</td>\n",
       "    </tr>\n",
       "    <tr>\n",
       "      <th>3</th>\n",
       "      <td>83434.0300</td>\n",
       "      <td>0.261371</td>\n",
       "    </tr>\n",
       "    <tr>\n",
       "      <th>4</th>\n",
       "      <td>149907.3900</td>\n",
       "      <td>0.469616</td>\n",
       "    </tr>\n",
       "    <tr>\n",
       "      <th>...</th>\n",
       "      <td>...</td>\n",
       "      <td>...</td>\n",
       "    </tr>\n",
       "    <tr>\n",
       "      <th>25475</th>\n",
       "      <td>77092.5700</td>\n",
       "      <td>0.241505</td>\n",
       "    </tr>\n",
       "    <tr>\n",
       "      <th>25476</th>\n",
       "      <td>279174.7900</td>\n",
       "      <td>0.874579</td>\n",
       "    </tr>\n",
       "    <tr>\n",
       "      <th>25477</th>\n",
       "      <td>146298.8500</td>\n",
       "      <td>0.458311</td>\n",
       "    </tr>\n",
       "    <tr>\n",
       "      <th>25478</th>\n",
       "      <td>86154.7700</td>\n",
       "      <td>0.269895</td>\n",
       "    </tr>\n",
       "    <tr>\n",
       "      <th>25479</th>\n",
       "      <td>70876.9100</td>\n",
       "      <td>0.222033</td>\n",
       "    </tr>\n",
       "  </tbody>\n",
       "</table>\n",
       "<p>25480 rows × 2 columns</p>\n",
       "</div>"
      ],
      "text/plain": [
       "       prevailing_wage  x_scaled_wage_data\n",
       "0             592.2029            0.001849\n",
       "1           83425.6500            0.261345\n",
       "2          122996.8600            0.385312\n",
       "3           83434.0300            0.261371\n",
       "4          149907.3900            0.469616\n",
       "...                ...                 ...\n",
       "25475       77092.5700            0.241505\n",
       "25476      279174.7900            0.874579\n",
       "25477      146298.8500            0.458311\n",
       "25478       86154.7700            0.269895\n",
       "25479       70876.9100            0.222033\n",
       "\n",
       "[25480 rows x 2 columns]"
      ]
     },
     "execution_count": 12,
     "metadata": {},
     "output_type": "execute_result"
    }
   ],
   "source": [
    "visa_df[['prevailing_wage','x_scaled_wage_data']]"
   ]
  },
  {
   "cell_type": "markdown",
   "id": "99a07bad-01fb-4f35-9b19-e63bacb65a9c",
   "metadata": {},
   "source": [
    "**task**\n",
    "\n",
    "- Compare the values\n",
    "\n",
    "- We scale the data using z score\n",
    "\n",
    "- The minimum value of index exactly match with minimum value index with scaled data\n",
    "\n",
    "- The maximum value of index exactly match with maximum value index with scaled data \n",
    "\n",
    "- **idxmax** and **idxmin**"
   ]
  },
  {
   "cell_type": "code",
   "execution_count": 37,
   "id": "b6635830-e3a8-41a3-bb6a-7dd3d907d477",
   "metadata": {},
   "outputs": [
    {
     "name": "stdout",
     "output_type": "stream",
     "text": [
      "The maximum value id is: 21077\n",
      "The minimum value id is: 20575\n"
     ]
    }
   ],
   "source": [
    "# Prevailing wage minimum id and\n",
    "# Prevailing wage maximum id\n",
    "max_id_wage=visa_df[['prevailing_wage']].idxmax().values[0]\n",
    "min_id_wage=visa_df[['prevailing_wage']].idxmin().values[0]\n",
    "print('The maximum value id is:',max_id_wage)\n",
    "print('The minimum value id is:',min_id_wage)"
   ]
  },
  {
   "cell_type": "code",
   "execution_count": 38,
   "id": "93942390-3383-480a-960d-102edf098c24",
   "metadata": {},
   "outputs": [
    {
     "data": {
      "text/plain": [
       "prevailing_wage    319210.27\n",
       "dtype: float64"
      ]
     },
     "execution_count": 38,
     "metadata": {},
     "output_type": "execute_result"
    }
   ],
   "source": [
    "visa_df[['prevailing_wage']].max()"
   ]
  },
  {
   "cell_type": "code",
   "execution_count": 39,
   "id": "70e3676d-18dd-4f70-8797-b5e767b58829",
   "metadata": {},
   "outputs": [
    {
     "data": {
      "text/plain": [
       "prevailing_wage    2.1367\n",
       "dtype: float64"
      ]
     },
     "execution_count": 39,
     "metadata": {},
     "output_type": "execute_result"
    }
   ],
   "source": [
    "visa_df[['prevailing_wage']].min()"
   ]
  },
  {
   "cell_type": "code",
   "execution_count": 40,
   "id": "8b8a4b96-858d-4d0c-92da-31e2f15ba8cd",
   "metadata": {},
   "outputs": [
    {
     "data": {
      "text/html": [
       "<div>\n",
       "<style scoped>\n",
       "    .dataframe tbody tr th:only-of-type {\n",
       "        vertical-align: middle;\n",
       "    }\n",
       "\n",
       "    .dataframe tbody tr th {\n",
       "        vertical-align: top;\n",
       "    }\n",
       "\n",
       "    .dataframe thead th {\n",
       "        text-align: right;\n",
       "    }\n",
       "</style>\n",
       "<table border=\"1\" class=\"dataframe\">\n",
       "  <thead>\n",
       "    <tr style=\"text-align: right;\">\n",
       "      <th></th>\n",
       "      <th>prevailing_wage</th>\n",
       "    </tr>\n",
       "  </thead>\n",
       "  <tbody>\n",
       "    <tr>\n",
       "      <th>21077</th>\n",
       "      <td>319210.2700</td>\n",
       "    </tr>\n",
       "    <tr>\n",
       "      <th>20575</th>\n",
       "      <td>2.1367</td>\n",
       "    </tr>\n",
       "  </tbody>\n",
       "</table>\n",
       "</div>"
      ],
      "text/plain": [
       "       prevailing_wage\n",
       "21077      319210.2700\n",
       "20575           2.1367"
      ]
     },
     "execution_count": 40,
     "metadata": {},
     "output_type": "execute_result"
    }
   ],
   "source": [
    "visa_df[['prevailing_wage']].loc[[max_id_wage,min_id_wage]]"
   ]
  },
  {
   "cell_type": "code",
   "execution_count": 41,
   "id": "26d3d641-402f-4d8a-b198-74e90e985d14",
   "metadata": {},
   "outputs": [
    {
     "name": "stdout",
     "output_type": "stream",
     "text": [
      "The maximum value id is: 21077\n",
      "The minimum value id is: 20575\n"
     ]
    },
    {
     "data": {
      "text/html": [
       "<div>\n",
       "<style scoped>\n",
       "    .dataframe tbody tr th:only-of-type {\n",
       "        vertical-align: middle;\n",
       "    }\n",
       "\n",
       "    .dataframe tbody tr th {\n",
       "        vertical-align: top;\n",
       "    }\n",
       "\n",
       "    .dataframe thead th {\n",
       "        text-align: right;\n",
       "    }\n",
       "</style>\n",
       "<table border=\"1\" class=\"dataframe\">\n",
       "  <thead>\n",
       "    <tr style=\"text-align: right;\">\n",
       "      <th></th>\n",
       "      <th>z_scaled_wage_data</th>\n",
       "    </tr>\n",
       "  </thead>\n",
       "  <tbody>\n",
       "    <tr>\n",
       "      <th>21077</th>\n",
       "      <td>4.634102</td>\n",
       "    </tr>\n",
       "    <tr>\n",
       "      <th>20575</th>\n",
       "      <td>-1.409682</td>\n",
       "    </tr>\n",
       "  </tbody>\n",
       "</table>\n",
       "</div>"
      ],
      "text/plain": [
       "       z_scaled_wage_data\n",
       "21077            4.634102\n",
       "20575           -1.409682"
      ]
     },
     "execution_count": 41,
     "metadata": {},
     "output_type": "execute_result"
    }
   ],
   "source": [
    "max_id_wage=visa_df[['z_scaled_wage_data']].idxmax().values[0]\n",
    "min_id_wage=visa_df[['z_scaled_wage_data']].idxmin().values[0]\n",
    "print('The maximum value id is:',max_id_wage)\n",
    "print('The minimum value id is:',min_id_wage)\n",
    "visa_df[['z_scaled_wage_data']].loc[[max_id_wage,min_id_wage]]"
   ]
  },
  {
   "cell_type": "markdown",
   "id": "ffeead81-2863-4b22-811e-2f863cbedbbb",
   "metadata": {},
   "source": [
    "**StandardScaler**\n",
    "\n",
    "- StandardScalar is a method to scale the data using z-score\n",
    "\n",
    "- It is under sklearn package\n",
    "\n",
    "- Under sklearn, we have a class: preprocessing\n",
    "\n",
    "- Under preprocessing, we have a method: **StandardScaler**\n",
    "\n",
    "- Read the package\n",
    "\n",
    "- Save the package\n",
    "\n",
    "- apply fit transform  "
   ]
  },
  {
   "cell_type": "code",
   "execution_count": 32,
   "id": "aa75304a-6016-44e5-aa06-f745c620f066",
   "metadata": {},
   "outputs": [],
   "source": [
    "visa_df=pd.read_csv(\"Visadataset.csv\")"
   ]
  },
  {
   "cell_type": "code",
   "execution_count": 46,
   "id": "fe89bb44-6c0d-414f-bd23-f6936edb6561",
   "metadata": {},
   "outputs": [
    {
     "data": {
      "text/plain": [
       "0       -1.398537\n",
       "1        0.169835\n",
       "2        0.919079\n",
       "3        0.169994\n",
       "4        1.428604\n",
       "           ...   \n",
       "25475    0.049924\n",
       "25476    3.876159\n",
       "25477    1.360280\n",
       "25478    0.221509\n",
       "25479   -0.067763\n",
       "Name: ss_wage_data, Length: 25480, dtype: float64"
      ]
     },
     "execution_count": 46,
     "metadata": {},
     "output_type": "execute_result"
    }
   ],
   "source": [
    "from sklearn.preprocessing import StandardScaler\n",
    "ss=StandardScaler()\n",
    "visa_df['ss_wage_data']=ss.fit_transform(visa_df[['prevailing_wage']])\n",
    "visa_df['ss_wage_data']"
   ]
  },
  {
   "cell_type": "markdown",
   "id": "20add523-d1f0-4856-8f04-1bb94fa3e0eb",
   "metadata": {},
   "source": [
    "**task**\n",
    "\n",
    "- Compare three columns\n",
    "\n",
    "  - One is original column: **prevailing_wage**\n",
    "\n",
    "  - Second column is developed by logic: **z_scaled_wage_data**\n",
    "\n",
    "  - Third column is developed by package: **ss_wage_data**"
   ]
  },
  {
   "cell_type": "code",
   "execution_count": 47,
   "id": "093e7937-0945-49a8-ac8e-587d4005462c",
   "metadata": {},
   "outputs": [
    {
     "data": {
      "text/html": [
       "<div>\n",
       "<style scoped>\n",
       "    .dataframe tbody tr th:only-of-type {\n",
       "        vertical-align: middle;\n",
       "    }\n",
       "\n",
       "    .dataframe tbody tr th {\n",
       "        vertical-align: top;\n",
       "    }\n",
       "\n",
       "    .dataframe thead th {\n",
       "        text-align: right;\n",
       "    }\n",
       "</style>\n",
       "<table border=\"1\" class=\"dataframe\">\n",
       "  <thead>\n",
       "    <tr style=\"text-align: right;\">\n",
       "      <th></th>\n",
       "      <th>prevailing_wage</th>\n",
       "      <th>z_scaled_wage_data</th>\n",
       "      <th>ss_wage_data</th>\n",
       "    </tr>\n",
       "  </thead>\n",
       "  <tbody>\n",
       "    <tr>\n",
       "      <th>0</th>\n",
       "      <td>592.2029</td>\n",
       "      <td>-1.398510</td>\n",
       "      <td>-1.398537</td>\n",
       "    </tr>\n",
       "    <tr>\n",
       "      <th>1</th>\n",
       "      <td>83425.6500</td>\n",
       "      <td>0.169832</td>\n",
       "      <td>0.169835</td>\n",
       "    </tr>\n",
       "    <tr>\n",
       "      <th>2</th>\n",
       "      <td>122996.8600</td>\n",
       "      <td>0.919060</td>\n",
       "      <td>0.919079</td>\n",
       "    </tr>\n",
       "    <tr>\n",
       "      <th>3</th>\n",
       "      <td>83434.0300</td>\n",
       "      <td>0.169991</td>\n",
       "      <td>0.169994</td>\n",
       "    </tr>\n",
       "    <tr>\n",
       "      <th>4</th>\n",
       "      <td>149907.3900</td>\n",
       "      <td>1.428576</td>\n",
       "      <td>1.428604</td>\n",
       "    </tr>\n",
       "    <tr>\n",
       "      <th>...</th>\n",
       "      <td>...</td>\n",
       "      <td>...</td>\n",
       "      <td>...</td>\n",
       "    </tr>\n",
       "    <tr>\n",
       "      <th>25475</th>\n",
       "      <td>77092.5700</td>\n",
       "      <td>0.049923</td>\n",
       "      <td>0.049924</td>\n",
       "    </tr>\n",
       "    <tr>\n",
       "      <th>25476</th>\n",
       "      <td>279174.7900</td>\n",
       "      <td>3.876083</td>\n",
       "      <td>3.876159</td>\n",
       "    </tr>\n",
       "    <tr>\n",
       "      <th>25477</th>\n",
       "      <td>146298.8500</td>\n",
       "      <td>1.360253</td>\n",
       "      <td>1.360280</td>\n",
       "    </tr>\n",
       "    <tr>\n",
       "      <th>25478</th>\n",
       "      <td>86154.7700</td>\n",
       "      <td>0.221504</td>\n",
       "      <td>0.221509</td>\n",
       "    </tr>\n",
       "    <tr>\n",
       "      <th>25479</th>\n",
       "      <td>70876.9100</td>\n",
       "      <td>-0.067762</td>\n",
       "      <td>-0.067763</td>\n",
       "    </tr>\n",
       "  </tbody>\n",
       "</table>\n",
       "<p>25480 rows × 3 columns</p>\n",
       "</div>"
      ],
      "text/plain": [
       "       prevailing_wage  z_scaled_wage_data  ss_wage_data\n",
       "0             592.2029           -1.398510     -1.398537\n",
       "1           83425.6500            0.169832      0.169835\n",
       "2          122996.8600            0.919060      0.919079\n",
       "3           83434.0300            0.169991      0.169994\n",
       "4          149907.3900            1.428576      1.428604\n",
       "...                ...                 ...           ...\n",
       "25475       77092.5700            0.049923      0.049924\n",
       "25476      279174.7900            3.876083      3.876159\n",
       "25477      146298.8500            1.360253      1.360280\n",
       "25478       86154.7700            0.221504      0.221509\n",
       "25479       70876.9100           -0.067762     -0.067763\n",
       "\n",
       "[25480 rows x 3 columns]"
      ]
     },
     "execution_count": 47,
     "metadata": {},
     "output_type": "execute_result"
    }
   ],
   "source": [
    "visa_df[['prevailing_wage','z_scaled_wage_data','ss_wage_data']]"
   ]
  },
  {
   "cell_type": "code",
   "execution_count": null,
   "id": "e2298a04-f02b-4c8c-8549-580c021552b8",
   "metadata": {},
   "outputs": [],
   "source": [
    "# read the data\n",
    "# develop a normalization data using logic\n",
    "# step-1: read the pwage data\n",
    "# step-2: min value\n",
    "# step-3: max value\n",
    "# step-4: nr: step-1 - step-2\n",
    "# step-5: dr: step-3 - step-2\n",
    "# step-6: step-4/step-5"
   ]
  },
  {
   "cell_type": "markdown",
   "id": "55c4f09b-b2fb-4eb1-b56a-514e014177e5",
   "metadata": {},
   "source": [
    "**MinMaxScalar**"
   ]
  },
  {
   "cell_type": "code",
   "execution_count": 45,
   "id": "5e0edc70-d424-429c-b3aa-b065c0dbee5f",
   "metadata": {},
   "outputs": [],
   "source": [
    "wage_data=visa_df['prevailing_wage']\n",
    "wage_min=visa_df['prevailing_wage'].min()\n",
    "wage_max=visa_df['prevailing_wage'].max()\n",
    "nr=wage_data-wage_min\n",
    "dr=wage_max-wage_min\n",
    "x_scaled_wage_data=nr/dr\n",
    "x_scaled_wage_data\n",
    "visa_df['x_scaled_wage_data']=x_scaled_wage_data"
   ]
  },
  {
   "cell_type": "code",
   "execution_count": 51,
   "id": "8b7d9ee5-2613-4cf0-bddf-d6aa08eaee2f",
   "metadata": {},
   "outputs": [
    {
     "data": {
      "text/html": [
       "<div>\n",
       "<style scoped>\n",
       "    .dataframe tbody tr th:only-of-type {\n",
       "        vertical-align: middle;\n",
       "    }\n",
       "\n",
       "    .dataframe tbody tr th {\n",
       "        vertical-align: top;\n",
       "    }\n",
       "\n",
       "    .dataframe thead th {\n",
       "        text-align: right;\n",
       "    }\n",
       "</style>\n",
       "<table border=\"1\" class=\"dataframe\">\n",
       "  <thead>\n",
       "    <tr style=\"text-align: right;\">\n",
       "      <th></th>\n",
       "      <th>prevailing_wage</th>\n",
       "      <th>x_scaled_wage_data</th>\n",
       "      <th>ss_wage_data</th>\n",
       "    </tr>\n",
       "  </thead>\n",
       "  <tbody>\n",
       "    <tr>\n",
       "      <th>0</th>\n",
       "      <td>592.2029</td>\n",
       "      <td>0.001849</td>\n",
       "      <td>-1.398537</td>\n",
       "    </tr>\n",
       "    <tr>\n",
       "      <th>1</th>\n",
       "      <td>83425.6500</td>\n",
       "      <td>0.261345</td>\n",
       "      <td>0.169835</td>\n",
       "    </tr>\n",
       "    <tr>\n",
       "      <th>2</th>\n",
       "      <td>122996.8600</td>\n",
       "      <td>0.385312</td>\n",
       "      <td>0.919079</td>\n",
       "    </tr>\n",
       "    <tr>\n",
       "      <th>3</th>\n",
       "      <td>83434.0300</td>\n",
       "      <td>0.261371</td>\n",
       "      <td>0.169994</td>\n",
       "    </tr>\n",
       "    <tr>\n",
       "      <th>4</th>\n",
       "      <td>149907.3900</td>\n",
       "      <td>0.469616</td>\n",
       "      <td>1.428604</td>\n",
       "    </tr>\n",
       "    <tr>\n",
       "      <th>...</th>\n",
       "      <td>...</td>\n",
       "      <td>...</td>\n",
       "      <td>...</td>\n",
       "    </tr>\n",
       "    <tr>\n",
       "      <th>25475</th>\n",
       "      <td>77092.5700</td>\n",
       "      <td>0.241505</td>\n",
       "      <td>0.049924</td>\n",
       "    </tr>\n",
       "    <tr>\n",
       "      <th>25476</th>\n",
       "      <td>279174.7900</td>\n",
       "      <td>0.874579</td>\n",
       "      <td>3.876159</td>\n",
       "    </tr>\n",
       "    <tr>\n",
       "      <th>25477</th>\n",
       "      <td>146298.8500</td>\n",
       "      <td>0.458311</td>\n",
       "      <td>1.360280</td>\n",
       "    </tr>\n",
       "    <tr>\n",
       "      <th>25478</th>\n",
       "      <td>86154.7700</td>\n",
       "      <td>0.269895</td>\n",
       "      <td>0.221509</td>\n",
       "    </tr>\n",
       "    <tr>\n",
       "      <th>25479</th>\n",
       "      <td>70876.9100</td>\n",
       "      <td>0.222033</td>\n",
       "      <td>-0.067763</td>\n",
       "    </tr>\n",
       "  </tbody>\n",
       "</table>\n",
       "<p>25480 rows × 3 columns</p>\n",
       "</div>"
      ],
      "text/plain": [
       "       prevailing_wage  x_scaled_wage_data  ss_wage_data\n",
       "0             592.2029            0.001849     -1.398537\n",
       "1           83425.6500            0.261345      0.169835\n",
       "2          122996.8600            0.385312      0.919079\n",
       "3           83434.0300            0.261371      0.169994\n",
       "4          149907.3900            0.469616      1.428604\n",
       "...                ...                 ...           ...\n",
       "25475       77092.5700            0.241505      0.049924\n",
       "25476      279174.7900            0.874579      3.876159\n",
       "25477      146298.8500            0.458311      1.360280\n",
       "25478       86154.7700            0.269895      0.221509\n",
       "25479       70876.9100            0.222033     -0.067763\n",
       "\n",
       "[25480 rows x 3 columns]"
      ]
     },
     "execution_count": 51,
     "metadata": {},
     "output_type": "execute_result"
    }
   ],
   "source": [
    "visa_df[['prevailing_wage','x_scaled_wage_data','ss_wage_data']]"
   ]
  },
  {
   "cell_type": "code",
   "execution_count": 49,
   "id": "8106e410-acb9-470c-98fb-fd975abb4d9c",
   "metadata": {},
   "outputs": [
    {
     "data": {
      "text/plain": [
       "0        0.001849\n",
       "1        0.261345\n",
       "2        0.385312\n",
       "3        0.261371\n",
       "4        0.469616\n",
       "           ...   \n",
       "25475    0.241505\n",
       "25476    0.874579\n",
       "25477    0.458311\n",
       "25478    0.269895\n",
       "25479    0.222033\n",
       "Name: mm_wage_data, Length: 25480, dtype: float64"
      ]
     },
     "execution_count": 49,
     "metadata": {},
     "output_type": "execute_result"
    }
   ],
   "source": [
    "from sklearn.preprocessing import MinMaxScaler\n",
    "mm=MinMaxScaler()\n",
    "visa_df['mm_wage_data']=mm.fit_transform(visa_df[['prevailing_wage']])\n",
    "visa_df['mm_wage_data']"
   ]
  },
  {
   "cell_type": "code",
   "execution_count": 50,
   "id": "271764fe-3546-43df-a9cc-151384373081",
   "metadata": {},
   "outputs": [
    {
     "data": {
      "text/html": [
       "<div>\n",
       "<style scoped>\n",
       "    .dataframe tbody tr th:only-of-type {\n",
       "        vertical-align: middle;\n",
       "    }\n",
       "\n",
       "    .dataframe tbody tr th {\n",
       "        vertical-align: top;\n",
       "    }\n",
       "\n",
       "    .dataframe thead th {\n",
       "        text-align: right;\n",
       "    }\n",
       "</style>\n",
       "<table border=\"1\" class=\"dataframe\">\n",
       "  <thead>\n",
       "    <tr style=\"text-align: right;\">\n",
       "      <th></th>\n",
       "      <th>prevailing_wage</th>\n",
       "      <th>x_scaled_wage_data</th>\n",
       "      <th>mm_wage_data</th>\n",
       "    </tr>\n",
       "  </thead>\n",
       "  <tbody>\n",
       "    <tr>\n",
       "      <th>0</th>\n",
       "      <td>592.2029</td>\n",
       "      <td>0.001849</td>\n",
       "      <td>0.001849</td>\n",
       "    </tr>\n",
       "    <tr>\n",
       "      <th>1</th>\n",
       "      <td>83425.6500</td>\n",
       "      <td>0.261345</td>\n",
       "      <td>0.261345</td>\n",
       "    </tr>\n",
       "    <tr>\n",
       "      <th>2</th>\n",
       "      <td>122996.8600</td>\n",
       "      <td>0.385312</td>\n",
       "      <td>0.385312</td>\n",
       "    </tr>\n",
       "    <tr>\n",
       "      <th>3</th>\n",
       "      <td>83434.0300</td>\n",
       "      <td>0.261371</td>\n",
       "      <td>0.261371</td>\n",
       "    </tr>\n",
       "    <tr>\n",
       "      <th>4</th>\n",
       "      <td>149907.3900</td>\n",
       "      <td>0.469616</td>\n",
       "      <td>0.469616</td>\n",
       "    </tr>\n",
       "    <tr>\n",
       "      <th>...</th>\n",
       "      <td>...</td>\n",
       "      <td>...</td>\n",
       "      <td>...</td>\n",
       "    </tr>\n",
       "    <tr>\n",
       "      <th>25475</th>\n",
       "      <td>77092.5700</td>\n",
       "      <td>0.241505</td>\n",
       "      <td>0.241505</td>\n",
       "    </tr>\n",
       "    <tr>\n",
       "      <th>25476</th>\n",
       "      <td>279174.7900</td>\n",
       "      <td>0.874579</td>\n",
       "      <td>0.874579</td>\n",
       "    </tr>\n",
       "    <tr>\n",
       "      <th>25477</th>\n",
       "      <td>146298.8500</td>\n",
       "      <td>0.458311</td>\n",
       "      <td>0.458311</td>\n",
       "    </tr>\n",
       "    <tr>\n",
       "      <th>25478</th>\n",
       "      <td>86154.7700</td>\n",
       "      <td>0.269895</td>\n",
       "      <td>0.269895</td>\n",
       "    </tr>\n",
       "    <tr>\n",
       "      <th>25479</th>\n",
       "      <td>70876.9100</td>\n",
       "      <td>0.222033</td>\n",
       "      <td>0.222033</td>\n",
       "    </tr>\n",
       "  </tbody>\n",
       "</table>\n",
       "<p>25480 rows × 3 columns</p>\n",
       "</div>"
      ],
      "text/plain": [
       "       prevailing_wage  x_scaled_wage_data  mm_wage_data\n",
       "0             592.2029            0.001849      0.001849\n",
       "1           83425.6500            0.261345      0.261345\n",
       "2          122996.8600            0.385312      0.385312\n",
       "3           83434.0300            0.261371      0.261371\n",
       "4          149907.3900            0.469616      0.469616\n",
       "...                ...                 ...           ...\n",
       "25475       77092.5700            0.241505      0.241505\n",
       "25476      279174.7900            0.874579      0.874579\n",
       "25477      146298.8500            0.458311      0.458311\n",
       "25478       86154.7700            0.269895      0.269895\n",
       "25479       70876.9100            0.222033      0.222033\n",
       "\n",
       "[25480 rows x 3 columns]"
      ]
     },
     "execution_count": 50,
     "metadata": {},
     "output_type": "execute_result"
    }
   ],
   "source": [
    "visa_df[['prevailing_wage','x_scaled_wage_data','mm_wage_data']]"
   ]
  },
  {
   "cell_type": "code",
   "execution_count": 53,
   "id": "fe8e5e04-44b0-4584-b211-1d1b1504782a",
   "metadata": {},
   "outputs": [
    {
     "data": {
      "text/plain": [
       "array([[-1.39853722],\n",
       "       [ 0.1698353 ],\n",
       "       [ 0.91907852],\n",
       "       ...,\n",
       "       [ 1.36027953],\n",
       "       [ 0.22150859],\n",
       "       [-0.06776315]])"
      ]
     },
     "execution_count": 53,
     "metadata": {},
     "output_type": "execute_result"
    }
   ],
   "source": [
    "# Method-1:\n",
    "ss.fit_transform(visa_df[['prevailing_wage']])"
   ]
  },
  {
   "cell_type": "code",
   "execution_count": 54,
   "id": "6411b691-8b26-4567-8983-a53a010e6774",
   "metadata": {},
   "outputs": [
    {
     "data": {
      "text/plain": [
       "array([[-1.39853722],\n",
       "       [ 0.1698353 ],\n",
       "       [ 0.91907852],\n",
       "       ...,\n",
       "       [ 1.36027953],\n",
       "       [ 0.22150859],\n",
       "       [-0.06776315]])"
      ]
     },
     "execution_count": 54,
     "metadata": {},
     "output_type": "execute_result"
    }
   ],
   "source": [
    "# Method-2:\n",
    "d=visa_df['prevailing_wage'].values.reshape(-1,1)\n",
    "ss.fit_transform(d)"
   ]
  },
  {
   "cell_type": "code",
   "execution_count": null,
   "id": "1dd0dcfb-ddc4-4cb4-8434-c1fdbb9f1de9",
   "metadata": {},
   "outputs": [],
   "source": [
    "# Method-1:\n",
    "ss.fit_transform(visa_df[['prevailing_wage']])\n",
    "\n",
    "# Method-2:\n",
    "d=visa_df['prevailing_wage'].values.reshape(-1,1)\n",
    "ss.fit_transform(d)"
   ]
  }
 ],
 "metadata": {
  "kernelspec": {
   "display_name": "Python 3 (ipykernel)",
   "language": "python",
   "name": "python3"
  },
  "language_info": {
   "codemirror_mode": {
    "name": "ipython",
    "version": 3
   },
   "file_extension": ".py",
   "mimetype": "text/x-python",
   "name": "python",
   "nbconvert_exporter": "python",
   "pygments_lexer": "ipython3",
   "version": "3.11.7"
  }
 },
 "nbformat": 4,
 "nbformat_minor": 5
}
